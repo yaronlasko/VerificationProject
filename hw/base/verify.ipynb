{
 "cells": [
  {
   "cell_type": "code",
   "execution_count": 1,
   "id": "0072e688-b3fc-4edc-bb8c-8ae54381b6be",
   "metadata": {},
   "outputs": [
    {
     "data": {
      "text/html": [
       "<script src=\"https://unpkg.com/jquery@3.3.1/dist/jquery.js\"></script>"
      ],
      "text/plain": [
       "<IPython.core.display.HTML object>"
      ]
     },
     "metadata": {},
     "output_type": "display_data"
    }
   ],
   "source": [
    "import boilerplate\n",
    "import graphviz\n",
    "\n",
    "import pyrtl\n",
    "from pyrtl import *\n",
    "\n",
    "import z3"
   ]
  },
  {
   "cell_type": "code",
   "execution_count": null,
   "id": "f70b969c",
   "metadata": {},
   "outputs": [],
   "source": [
    "def net_to_smt(wb):\n",
    "    \"\"\"\n",
    "    Convert PyRTL working block to SMT formulas for Z3 verification.\n",
    "    \n",
    "    Returns:\n",
    "    - wires: dict mapping wire names to Z3 BitVec variables\n",
    "    - ops: list of Z3 operations/constraints \n",
    "    - assertions: list of Z3 assertions representing the circuit logic\n",
    "    \"\"\"\n",
    "    \n",
    "    wires = {}\n",
    "    ops = []\n",
    "    assertions = []\n",
    "    \n",
    "    # First pass: create Z3 BitVec variables for all wires\n",
    "    for net in wb:\n",
    "        # Create BitVec for destination wires\n",
    "        for dest in net.dests:\n",
    "            if dest.name not in wires:\n",
    "                wires[dest.name] = z3.BitVec(dest.name, dest.bitwidth)\n",
    "        \n",
    "        # Create BitVec for argument wires (inputs)\n",
    "        for arg in net.args:\n",
    "            if arg.name not in wires:\n",
    "                wires[arg.name] = z3.BitVec(arg.name, arg.bitwidth)\n",
    "    \n",
    "    # Second pass: create Z3 constraints based on operations\n",
    "    for net in wb:\n",
    "        op = net.op\n",
    "        args = [wires[arg.name] for arg in net.args]\n",
    "        dest = wires[net.dests[0].name]  # Most operations have single destination\n",
    "        \n",
    "        match op:\n",
    "            case 'w': # Wire assignment\n",
    "                # TODO wire width adaption\n",
    "                assertions.append(z3.eq(dest.bitwidth, args[0].bitwidth))\n",
    "\n",
    "                assertion = z3.eq(dest, args[0])\n",
    "                assertions.append(assertion)\n",
    "                ops.append(('assign', args[0], dest))\n",
    "            \n",
    "            case '&':  # Bitwise AND\n",
    "                if len(args) == 2:\n",
    "                    # TODO assert input width are same\n",
    "                    assertions.append(z3.And(z3.eq(args[0].bitwidth, args[1].bitwidth),\n",
    "                                             z3.eq(dest.bitwidth, args[0])))\n",
    "                    \n",
    "                    assertion = z3.eq(dest, z3.And(args[0], args[1]))\n",
    "                    assertions.append(assertion)\n",
    "                    ops.append(('and', args[0], args[1], dest))\n",
    "            \n",
    "            case '|':  # Bitwise OR\n",
    "                if len(args) == 2:\n",
    "                    # TODO assert input width are same\n",
    "                    assertions.append(z3.And(z3.eq(args[0].bitwidth, args[1].bitwidth),\n",
    "                                             z3.eq(dest.bitwidth, args[0])))\n",
    "                    \n",
    "                    assertion = z3.eq(dest, z3.Or(args[0], args[1]))\n",
    "                    assertions.append(assertion)\n",
    "                    ops.append(('or', args[0], args[1], dest))\n",
    "                    \n",
    "            case '^':  # Bitwise XOR\n",
    "                if len(args) == 2:\n",
    "                    # TODO assert input width are same\n",
    "                    assertions.append(z3.And(z3.eq(args[0].bitwidth, args[1].bitwidth),\n",
    "                                             z3.eq(dest.bitwidth, args[0].bitwidth)))\n",
    "\n",
    "                    assertion = z3.eq(dest, z3.Xor(args[0], args[1]))\n",
    "                    assertions.append(assertion)\n",
    "                    ops.append(('xor', args[0], args[1], dest))\n",
    "                    \n",
    "            case '~':  # Bitwise NOT\n",
    "                # assert input and output widths match\n",
    "                assertions.append(z3.eq(dest.bitwidth, args[0]))\n",
    "                \n",
    "                assertion = z3.eq(dest, z3.Not(args[0]))\n",
    "                assertions.append(assertion)\n",
    "                ops.append(('not', args[0], dest))\n",
    "                \n",
    "            case 'c':  # Concatenation\n",
    "                # Concatenate arguments from left to right (most significant first)\n",
    "                if len(args) >= 2:\n",
    "                    result = args[0]\n",
    "                    result_bitwidth = 0\n",
    "                    for i in range(1, len(args)):\n",
    "                        result = z3.Concat(result, args[i])\n",
    "                        result_bitwidth += args[1].bitwidth\n",
    "\n",
    "                    # TODO assert dest width is the sum of the input widths\n",
    "                    assertions.append(z3.eq(dest.bitwidt, result_bitwidth))\n",
    "\n",
    "                    assertion = z3.eq(dest, result)\n",
    "                    assertions.append(assertion)\n",
    "                    ops.append(('concat', args, dest))\n",
    "                    \n",
    "            case 's':  # Select/Extract bits\n",
    "                # Format: select(wire, high_bit, low_bit)\n",
    "                if len(args) == 1 and net.op_param is not None:\n",
    "                    if isinstance(net.op_param, tuple) and len(net.op_param) == 2:\n",
    "                        high_bit, low_bit = net.op_param\n",
    "\n",
    "                        # TODO assert dest width is highbit-lowbit+1\n",
    "                        assertions.append(z3.eq(dest.bitwidth, (high_bit - low_bit + 1)))\n",
    "\n",
    "                        assertion = z3.eq(dest, z3.Extract(high_bit, low_bit, args[0]))\n",
    "                        assertions.append(assertion)\n",
    "                        ops.append(('extract', args[0], high_bit, low_bit, dest))\n",
    "                        \n",
    "            case 'm':  # Multiplexer\n",
    "                # Format: mux(select, *options)\n",
    "                if len(args) >= 3:\n",
    "                    select = args[0]\n",
    "                    options = args[1:]\n",
    "                    # Build nested if-then-else for mux\n",
    "                    result = options[-1]  # default case\n",
    "                    for i in range(len(options)-2, -1, -1):\n",
    "                        condition = z3.eq(select, i)\n",
    "                        result = z3.If(condition, options[i], result)\n",
    "                    assertion = z3.eq(dest, result)\n",
    "                    assertions.append(assertion)\n",
    "                    ops.append(('mux', select, options, dest))\n",
    "                    \n",
    "            case '*':\n",
    "                if len(args) == 2:\n",
    "                    # TODO assert dest width 2*n than the input width n\n",
    "                    assertions.append(z3.And(z3.eq(args[0].bitwidth, args[1].bitwidth),\n",
    "                                             z3.eq(dest.bitwidth, args[0] * 2)))\n",
    "                    \n",
    "                    assertion = z3.eq(dest, args[0] * args[1])\n",
    "                    assertions.append(assertion)\n",
    "                    ops.append(('mul', args[0], args[1], dest))\n",
    "\n",
    "            case '+':  # Addition\n",
    "                if len(args) == 2:\n",
    "                    # TODO assert dest width is one bit more than the input width\n",
    "                    assertions.append(z3.And(z3.eq(args[0].bitwidth, args[1].bitwidth),\n",
    "                                             z3.eq(dest.bitwidth, args[0] + 1)))\n",
    "                    \n",
    "                    assertion = z3.eq(dest, (args[0] + args[1]))\n",
    "                    assertions.append(assertion)\n",
    "                    ops.append(('add', args[0], args[1], dest))\n",
    "                    \n",
    "            case '-':  # Subtraction\n",
    "                if len(args) == 2:\n",
    "                    # TODO assert dest width is one bit more than the input width\n",
    "                    assertions.append(z3.And(z3.eq(args[0].bitwidth, args[1].bitwidth),\n",
    "                                             z3.eq(dest.bitwidth, args[0] + 1)))\n",
    "                    \n",
    "                    assertion = z3.eq(dest, (args[0] - args[1]))\n",
    "                    assertions.append(assertion)\n",
    "                    ops.append(('sub', args[0], args[1], dest))\n",
    "                    \n",
    "            case '=':  # Equality comparison\n",
    "                if len(args) == 2:\n",
    "                    assertion = z3.eq(dest, z3.If(z3.eq(args[0], args[1]), \n",
    "                                                  z3.BitVecVal(1, dest.size()), \n",
    "                                                  z3.BitVecVal(0, dest.size())))\n",
    "                    assertions.append(assertion)\n",
    "                    ops.append(('eq', args[0], args[1], dest))\n",
    "                    \n",
    "            case '<':  # Less than comparison\n",
    "                if len(args) == 2:\n",
    "                    assertion = z3.eq(dest, z3.If(z3.ULT(args[0], args[1]), \n",
    "                                                  z3.BitVecVal(1, dest.size()), \n",
    "                                                  z3.BitVecVal(0, dest.size())))\n",
    "                    assertions.append(assertion)\n",
    "                    ops.append(('lt', args[0], args[1], dest))                    \n",
    "\n",
    "            case _:\n",
    "                # Unknown operation - to handle unsupported ops\n",
    "                ops.append(('unknown_op', op, net.op_param, args, dest))\n",
    "    \n",
    "    return wires, ops, assertions"
   ]
  },
  {
   "cell_type": "markdown",
   "id": "8f29cd56-11cb-42b5-a111-117e1c42685d",
   "metadata": {},
   "source": [
    "## Verifying a Boolean circuit"
   ]
  },
  {
   "cell_type": "code",
   "execution_count": 5,
   "id": "4b528852-c171-4a4c-bb3a-cf0f77f32fff",
   "metadata": {},
   "outputs": [
    {
     "ename": "AttributeError",
     "evalue": "'BitVecRef' object has no attribute 'bitwidth'",
     "output_type": "error",
     "traceback": [
      "\u001b[31m---------------------------------------------------------------------------\u001b[39m",
      "\u001b[31mAttributeError\u001b[39m                            Traceback (most recent call last)",
      "\u001b[36mCell\u001b[39m\u001b[36m \u001b[39m\u001b[32mIn[5]\u001b[39m\u001b[32m, line 8\u001b[39m\n\u001b[32m      4\u001b[39m out = Output(bitwidth=\u001b[32m2\u001b[39m, name=\u001b[33m\"\u001b[39m\u001b[33mout\u001b[39m\u001b[33m\"\u001b[39m)\n\u001b[32m      6\u001b[39m out <<= concat(r[\u001b[32m0\u001b[39m] & r[\u001b[32m1\u001b[39m], r[\u001b[32m0\u001b[39m] ^ r[\u001b[32m1\u001b[39m])\n\u001b[32m----> \u001b[39m\u001b[32m8\u001b[39m wires, ops, assertions = \u001b[43mnet_to_smt\u001b[49m\u001b[43m(\u001b[49m\u001b[43mworking_block\u001b[49m\u001b[43m(\u001b[49m\u001b[43m)\u001b[49m\u001b[43m)\u001b[49m\n\u001b[32m      9\u001b[39m working_block()\n",
      "\u001b[36mCell\u001b[39m\u001b[36m \u001b[39m\u001b[32mIn[4]\u001b[39m\u001b[32m, line 65\u001b[39m, in \u001b[36mnet_to_smt\u001b[39m\u001b[34m(wb)\u001b[39m\n\u001b[32m     62\u001b[39m \u001b[38;5;28;01mcase\u001b[39;00m \u001b[33m'\u001b[39m\u001b[33m^\u001b[39m\u001b[33m'\u001b[39m:  \u001b[38;5;66;03m# Bitwise XOR\u001b[39;00m\n\u001b[32m     63\u001b[39m     \u001b[38;5;28;01mif\u001b[39;00m \u001b[38;5;28mlen\u001b[39m(args) == \u001b[32m2\u001b[39m:\n\u001b[32m     64\u001b[39m         \u001b[38;5;66;03m# TODO assert input width are same\u001b[39;00m\n\u001b[32m---> \u001b[39m\u001b[32m65\u001b[39m         assertions.append((\u001b[43margs\u001b[49m\u001b[43m[\u001b[49m\u001b[32;43m0\u001b[39;49m\u001b[43m]\u001b[49m\u001b[43m.\u001b[49m\u001b[43mbitwidth\u001b[49m == args[\u001b[32m1\u001b[39m].bitwidth)\n\u001b[32m     66\u001b[39m                           \u001b[38;5;129;01mand\u001b[39;00m (dest.bitwidth == args[\u001b[32m0\u001b[39m]))\n\u001b[32m     68\u001b[39m         assertion = dest == (args[\u001b[32m0\u001b[39m] ^ args[\u001b[32m1\u001b[39m])\n\u001b[32m     69\u001b[39m         assertions.append(assertion)\n",
      "\u001b[31mAttributeError\u001b[39m: 'BitVecRef' object has no attribute 'bitwidth'"
     ]
    }
   ],
   "source": [
    "reset_working_block()\n",
    "\n",
    "r = [Input(bitwidth=1, name=\"r%d\"%i) for i in range(2)]\n",
    "out = Output(bitwidth=2, name=\"out\")\n",
    "\n",
    "out <<= concat(r[0] & r[1], r[0] ^ r[1])\n",
    "\n",
    "wires, ops, assertions = net_to_smt(working_block())\n",
    "working_block()"
   ]
  },
  {
   "cell_type": "code",
   "execution_count": 12,
   "id": "0023a828",
   "metadata": {},
   "outputs": [
    {
     "name": "stdout",
     "output_type": "stream",
     "text": [
      "{'tmp10': tmp10, 'r0': r0, 'r1': r1, 'tmp9': tmp9, 'tmp11': tmp11, 'out': out}\n",
      "[('xor', r0, r1, tmp10), ('and', r0, r1, tmp9), ('concat', [tmp9, tmp10], tmp11), ('assign', tmp11, out)]\n",
      "[tmp10 == r0 ^ r1, tmp9 == r0 & r1, tmp11 == Concat(tmp9, tmp10), out == tmp11]\n"
     ]
    }
   ],
   "source": [
    "print(wires)\n",
    "print(ops)\n",
    "print(assertions)"
   ]
  },
  {
   "cell_type": "code",
   "execution_count": 13,
   "id": "743a42cc-b79b-43a9-9848-2e5e13d78f39",
   "metadata": {},
   "outputs": [
    {
     "data": {
      "text/plain": [
       "1"
      ]
     },
     "execution_count": 13,
     "metadata": {},
     "output_type": "execute_result"
    }
   ],
   "source": [
    "sim = Simulation()\n",
    "sim.step({r[0]: 1, r[1]: 0})\n",
    "sim.inspect(out)"
   ]
  },
  {
   "cell_type": "code",
   "execution_count": 14,
   "id": "a879cf73-41cd-4e71-a5cf-f3c989e43a5b",
   "metadata": {},
   "outputs": [
    {
     "data": {
      "text/html": [
       "<b>unsat</b>"
      ],
      "text/plain": [
       "unsat"
      ]
     },
     "execution_count": 14,
     "metadata": {},
     "output_type": "execute_result"
    }
   ],
   "source": [
    "from z3 import BitVec, And, Xor, BV2Int\n",
    "\n",
    "r = [BitVec(\"r0\", 1), BitVec(\"r1\", 1)]\n",
    "out = BitVec(\"out\", 2)\n",
    "\n",
    "system = [\n",
    "    out == z3.Concat(r[0] & r[1], r[0] ^ r[1])\n",
    "]\n",
    "\n",
    "spec = BV2Int(r[0]) + BV2Int(r[1]) == BV2Int(out)\n",
    "\n",
    "s = z3.Solver()\n",
    "s.add(system)\n",
    "s.add(z3.Not(spec))\n",
    "res = s.check()\n",
    "s.model() if res == z3.sat else res"
   ]
  },
  {
   "cell_type": "code",
   "execution_count": 15,
   "id": "928a8010-1835-4a53-8c7d-d0256aaca4ad",
   "metadata": {},
   "outputs": [
    {
     "name": "stdout",
     "output_type": "stream",
     "text": [
      "^  [('r0', 1), ('r1', 1)] [('tmp10', 1)]\n",
      "&  [('r0', 1), ('r1', 1)] [('tmp9', 1)]\n",
      "c  [('tmp9', 1), ('tmp10', 1)] [('tmp11', 2)]\n",
      "w  [('tmp11', 2)] [('out', 2)]\n"
     ]
    }
   ],
   "source": [
    "wb = working_block()\n",
    "for net in wb:\n",
    "    print(net.op, net.op_param or '', [(a.name, a.bitwidth) for a in net.args], [(a.name, a.bitwidth) for a in net.dests])"
   ]
  },
  {
   "cell_type": "markdown",
   "id": "9ac2fe46-5e96-4bbb-9ced-6fbaaac5bc79",
   "metadata": {},
   "source": [
    "  "
   ]
  },
  {
   "cell_type": "markdown",
   "id": "44b5a31c-ed0a-4907-8540-1b84d3298099",
   "metadata": {},
   "source": [
    "_Exercise_. We would like to generate `spec` automatically from the net elements in the hardware design.\n",
    "Write a loop that constructs such a formula."
   ]
  },
  {
   "cell_type": "code",
   "execution_count": 27,
   "id": "9296c82e-182a-4677-aa0c-adab26ead217",
   "metadata": {},
   "outputs": [],
   "source": [
    "# go for it\n"
   ]
  },
  {
   "cell_type": "code",
   "execution_count": 16,
   "id": "b61dd6c1-3f7f-4743-9b8f-f25c788ef3d6",
   "metadata": {},
   "outputs": [],
   "source": [
    "reset_working_block()\n",
    "\n",
    "_r = [Input(bitwidth=2, name=\"r%d\"%i) for i in range(2)]\n",
    "out = Output(bitwidth=3, name=\"out\")\n",
    "\n",
    "r = [[_r[0][0], _r[0][1]], [_r[1][0], _r[1][1]]]\n",
    "\n",
    "c = [r[0][0] & r[1][0]]\n",
    "c.append(c[0] & (r[0][1] | r[1][1]) | r[0][1] & r[1][1])\n",
    "\n",
    "out <<= concat(c[1], r[0][1] ^ r[1][1] ^ c[0], r[0][0] ^ r[1][0])"
   ]
  },
  {
   "cell_type": "code",
   "execution_count": 21,
   "id": "0b4b9c99",
   "metadata": {},
   "outputs": [
    {
     "name": "stdout",
     "output_type": "stream",
     "text": [
      "{'tmp13': tmp13, 'r0': r0, 'tmp12': tmp12, 'tmp15': tmp15, 'r1': r1, 'tmp14': tmp14, 'tmp17': tmp17, 'tmp19': tmp19, 'tmp21': tmp21, 'tmp23': tmp23, 'tmp16': tmp16, 'tmp18': tmp18, 'tmp22': tmp22, 'tmp20': tmp20, 'tmp24': tmp24, 'out': out}\n",
      "[('or', tmp13, tmp15, tmp17), ('and', tmp13, tmp15, tmp19), ('xor', tmp13, tmp15, tmp21), ('xor', tmp12, tmp14, tmp23), ('and', tmp12, tmp14, tmp16), ('and', tmp16, tmp17, tmp18), ('xor', tmp21, tmp16, tmp22), ('or', tmp18, tmp19, tmp20), ('concat', [tmp20, tmp22, tmp23], tmp24), ('assign', tmp24, out)]\n",
      "[tmp17 == tmp13 | tmp15, tmp19 == tmp13 & tmp15, tmp21 == tmp13 ^ tmp15, tmp23 == tmp12 ^ tmp14, tmp16 == tmp12 & tmp14, tmp18 == tmp16 & tmp17, tmp22 == tmp21 ^ tmp16, tmp20 == tmp18 | tmp19, tmp24 == Concat(Concat(tmp20, tmp22), tmp23), out == tmp24]\n"
     ]
    }
   ],
   "source": [
    "wires, ops, assertions = net_to_smt(working_block())\n",
    "\n",
    "print(wires)\n",
    "print(ops)\n",
    "print(assertions)"
   ]
  },
  {
   "cell_type": "code",
   "execution_count": 17,
   "id": "85cb7e7c-4919-4864-ab4c-eda984d6d38d",
   "metadata": {},
   "outputs": [
    {
     "data": {
      "image/svg+xml": [
       "<?xml version=\"1.0\" encoding=\"UTF-8\" standalone=\"no\"?>\n",
       "<!DOCTYPE svg PUBLIC \"-//W3C//DTD SVG 1.1//EN\"\n",
       " \"http://www.w3.org/Graphics/SVG/1.1/DTD/svg11.dtd\">\n",
       "<!-- Generated by graphviz version 13.0.0 (20250608.1624)\n",
       " -->\n",
       "<!-- Title: g Pages: 1 -->\n",
       "<svg width=\"264pt\" height=\"495pt\"\n",
       " viewBox=\"0.00 0.00 264.00 495.00\" xmlns=\"http://www.w3.org/2000/svg\" xmlns:xlink=\"http://www.w3.org/1999/xlink\">\n",
       "<g id=\"graph0\" class=\"graph\" transform=\"scale(1 1) rotate(0) translate(4 490.7)\">\n",
       "<title>g</title>\n",
       "<polygon fill=\"white\" stroke=\"none\" points=\"-4,4 -4,-490.7 260.25,-490.7 260.25,4 -4,4\"/>\n",
       "<!-- n0&#45;&gt;n1 -->\n",
       "<g id=\"edge1\" class=\"edge\">\n",
       "<title>n0&#45;&gt;n1</title>\n",
       "<path fill=\"none\" stroke=\"deepskyblue\" stroke-width=\"6\" d=\"M100,-72.21C100,-67.45 100,-56.29 100,-45.42\"/>\n",
       "<polygon fill=\"deepskyblue\" stroke=\"deepskyblue\" stroke-width=\"6\" points=\"102.63,-45.5 100,-40.5 97.38,-45.5 102.63,-45.5\"/>\n",
       "</g>\n",
       "<!-- n2&#45;&gt;n4 -->\n",
       "<g id=\"edge2\" class=\"edge\">\n",
       "<title>n2&#45;&gt;n4</title>\n",
       "<path fill=\"none\" stroke=\"deepskyblue\" stroke-width=\"6\" d=\"M143.95,-457.15C126.78,-443.26 97.24,-419.38 84.34,-408.95\"/>\n",
       "</g>\n",
       "<!-- n2&#45;&gt;n5 -->\n",
       "<g id=\"edge3\" class=\"edge\">\n",
       "<title>n2&#45;&gt;n5</title>\n",
       "<path fill=\"none\" stroke=\"deepskyblue\" stroke-width=\"6\" d=\"M162.22,-453.21C166.94,-440.1 173.69,-421.35 177.37,-411.13\"/>\n",
       "</g>\n",
       "<!-- n3&#45;&gt;n6 -->\n",
       "<g id=\"edge4\" class=\"edge\">\n",
       "<title>n3&#45;&gt;n6</title>\n",
       "<path fill=\"none\" stroke=\"deepskyblue\" stroke-width=\"6\" d=\"M43.59,-452.89C39.73,-439.91 34.28,-421.59 31.25,-411.4\"/>\n",
       "</g>\n",
       "<!-- n3&#45;&gt;n7 -->\n",
       "<g id=\"edge5\" class=\"edge\">\n",
       "<title>n3&#45;&gt;n7</title>\n",
       "<path fill=\"none\" stroke=\"deepskyblue\" stroke-width=\"6\" d=\"M61.54,-457.15C79.37,-443.26 110.03,-419.38 123.42,-408.95\"/>\n",
       "</g>\n",
       "<!-- n4&#45;&gt;n8 -->\n",
       "<g id=\"edge6\" class=\"edge\">\n",
       "<title>n4&#45;&gt;n8</title>\n",
       "<path fill=\"none\" stroke=\"deepskyblue\" stroke-width=\"2\" d=\"M77.39,-393.99C76.77,-386.17 75.8,-373.72 74.92,-362.54\"/>\n",
       "<polygon fill=\"deepskyblue\" stroke=\"deepskyblue\" stroke-width=\"2\" points=\"76.68,-362.58 74.55,-357.73 73.19,-362.85 76.68,-362.58\"/>\n",
       "</g>\n",
       "<!-- n4&#45;&gt;n15 -->\n",
       "<g id=\"edge7\" class=\"edge\">\n",
       "<title>n4&#45;&gt;n15</title>\n",
       "<path fill=\"none\" stroke=\"deepskyblue\" stroke-width=\"2\" d=\"M72.46,-395.93C64.01,-386.93 47.54,-369.4 34.91,-355.96\"/>\n",
       "<polygon fill=\"deepskyblue\" stroke=\"deepskyblue\" stroke-width=\"2\" points=\"36.2,-354.77 31.5,-352.32 33.65,-357.16 36.2,-354.77\"/>\n",
       "</g>\n",
       "<!-- n5&#45;&gt;n9 -->\n",
       "<g id=\"edge8\" class=\"edge\">\n",
       "<title>n5&#45;&gt;n9</title>\n",
       "<path fill=\"none\" stroke=\"deepskyblue\" stroke-width=\"2\" d=\"M180.25,-393.99C180.49,-386.17 180.88,-373.72 181.23,-362.54\"/>\n",
       "<polygon fill=\"deepskyblue\" stroke=\"deepskyblue\" stroke-width=\"2\" points=\"182.97,-362.79 181.38,-357.74 179.47,-362.68 182.97,-362.79\"/>\n",
       "</g>\n",
       "<!-- n5&#45;&gt;n11 -->\n",
       "<g id=\"edge9\" class=\"edge\">\n",
       "<title>n5&#45;&gt;n11</title>\n",
       "<path fill=\"none\" stroke=\"deepskyblue\" stroke-width=\"2\" d=\"M185.26,-395.93C193.2,-387.04 208.57,-369.81 220.5,-356.44\"/>\n",
       "<polygon fill=\"deepskyblue\" stroke=\"deepskyblue\" stroke-width=\"2\" points=\"221.67,-357.76 223.69,-352.87 219.05,-355.43 221.67,-357.76\"/>\n",
       "</g>\n",
       "<!-- n5&#45;&gt;n13 -->\n",
       "<g id=\"edge10\" class=\"edge\">\n",
       "<title>n5&#45;&gt;n13</title>\n",
       "<path fill=\"none\" stroke=\"deepskyblue\" stroke-width=\"2\" d=\"M174.82,-395.47C167.58,-386.57 154.12,-370.04 143.49,-356.97\"/>\n",
       "<polygon fill=\"deepskyblue\" stroke=\"deepskyblue\" stroke-width=\"2\" points=\"144.96,-356.01 140.44,-353.23 142.24,-358.22 144.96,-356.01\"/>\n",
       "</g>\n",
       "<!-- n6&#45;&gt;n8 -->\n",
       "<g id=\"edge11\" class=\"edge\">\n",
       "<title>n6&#45;&gt;n8</title>\n",
       "<path fill=\"none\" stroke=\"deepskyblue\" stroke-width=\"2\" d=\"M33.38,-395.47C39.3,-386.87 50.14,-371.13 58.99,-358.29\"/>\n",
       "<polygon fill=\"deepskyblue\" stroke=\"deepskyblue\" stroke-width=\"2\" points=\"60.29,-359.49 61.68,-354.38 57.4,-357.51 60.29,-359.49\"/>\n",
       "</g>\n",
       "<!-- n6&#45;&gt;n15 -->\n",
       "<g id=\"edge12\" class=\"edge\">\n",
       "<title>n6&#45;&gt;n15</title>\n",
       "<path fill=\"none\" stroke=\"deepskyblue\" stroke-width=\"2\" d=\"M27.65,-393.99C26.3,-386.17 24.16,-373.72 22.23,-362.54\"/>\n",
       "<polygon fill=\"deepskyblue\" stroke=\"deepskyblue\" stroke-width=\"2\" points=\"23.97,-362.33 21.4,-357.69 20.52,-362.92 23.97,-362.33\"/>\n",
       "</g>\n",
       "<!-- n7&#45;&gt;n9 -->\n",
       "<g id=\"edge13\" class=\"edge\">\n",
       "<title>n7&#45;&gt;n9</title>\n",
       "<path fill=\"none\" stroke=\"deepskyblue\" stroke-width=\"2\" d=\"M135.18,-395.47C142.42,-386.57 155.88,-370.04 166.51,-356.97\"/>\n",
       "<polygon fill=\"deepskyblue\" stroke=\"deepskyblue\" stroke-width=\"2\" points=\"167.76,-358.22 169.56,-353.23 165.04,-356.01 167.76,-358.22\"/>\n",
       "</g>\n",
       "<!-- n7&#45;&gt;n11 -->\n",
       "<g id=\"edge14\" class=\"edge\">\n",
       "<title>n7&#45;&gt;n11</title>\n",
       "<path fill=\"none\" stroke=\"deepskyblue\" stroke-width=\"2\" d=\"M136.99,-397.71C150.78,-389.58 182.47,-370.87 209,-354.95 211.15,-353.66 213.38,-352.31 215.61,-350.97\"/>\n",
       "<polygon fill=\"deepskyblue\" stroke=\"deepskyblue\" stroke-width=\"2\" points=\"216.24,-352.63 219.61,-348.55 214.42,-349.64 216.24,-352.63\"/>\n",
       "</g>\n",
       "<!-- n7&#45;&gt;n13 -->\n",
       "<g id=\"edge15\" class=\"edge\">\n",
       "<title>n7&#45;&gt;n13</title>\n",
       "<path fill=\"none\" stroke=\"deepskyblue\" stroke-width=\"2\" d=\"M129.75,-393.99C129.51,-386.17 129.12,-373.72 128.77,-362.54\"/>\n",
       "<polygon fill=\"deepskyblue\" stroke=\"deepskyblue\" stroke-width=\"2\" points=\"130.53,-362.68 128.62,-357.74 127.03,-362.79 130.53,-362.68\"/>\n",
       "</g>\n",
       "<!-- n8&#45;&gt;n10 -->\n",
       "<g id=\"edge16\" class=\"edge\">\n",
       "<title>n8&#45;&gt;n10</title>\n",
       "<path fill=\"none\" stroke=\"deepskyblue\" stroke-width=\"2\" d=\"M86.61,-325.92C102.6,-314.14 129.29,-294.47 147.72,-280.89\"/>\n",
       "<polygon fill=\"deepskyblue\" stroke=\"deepskyblue\" stroke-width=\"2\" points=\"148.68,-282.36 151.67,-277.98 146.6,-279.54 148.68,-282.36\"/>\n",
       "</g>\n",
       "<!-- n8&#45;&gt;n14 -->\n",
       "<g id=\"edge17\" class=\"edge\">\n",
       "<title>n8&#45;&gt;n14</title>\n",
       "<path fill=\"none\" stroke=\"deepskyblue\" stroke-width=\"2\" d=\"M79.13,-320.07C82.65,-310.94 87.13,-299.31 91.04,-289.17\"/>\n",
       "<polygon fill=\"deepskyblue\" stroke=\"deepskyblue\" stroke-width=\"2\" points=\"92.64,-289.89 92.81,-284.6 89.38,-288.63 92.64,-289.89\"/>\n",
       "</g>\n",
       "<!-- n9&#45;&gt;n10 -->\n",
       "<g id=\"edge18\" class=\"edge\">\n",
       "<title>n9&#45;&gt;n10</title>\n",
       "<path fill=\"none\" stroke=\"deepskyblue\" stroke-width=\"2\" d=\"M178.68,-319.36C176.94,-310.64 174.77,-299.8 172.84,-290.16\"/>\n",
       "<polygon fill=\"deepskyblue\" stroke=\"deepskyblue\" stroke-width=\"2\" points=\"174.58,-289.95 171.89,-285.39 171.15,-290.63 174.58,-289.95\"/>\n",
       "</g>\n",
       "<!-- n10&#45;&gt;n12 -->\n",
       "<g id=\"edge19\" class=\"edge\">\n",
       "<title>n10&#45;&gt;n12</title>\n",
       "<path fill=\"none\" stroke=\"deepskyblue\" stroke-width=\"2\" d=\"M168,-247C168,-238.49 168,-228.02 168,-218.63\"/>\n",
       "<polygon fill=\"deepskyblue\" stroke=\"deepskyblue\" stroke-width=\"2\" points=\"169.75,-218.77 168,-213.77 166.25,-218.77 169.75,-218.77\"/>\n",
       "</g>\n",
       "<!-- n11&#45;&gt;n12 -->\n",
       "<g id=\"edge20\" class=\"edge\">\n",
       "<title>n11&#45;&gt;n12</title>\n",
       "<path fill=\"none\" stroke=\"deepskyblue\" stroke-width=\"2\" d=\"M230.14,-320.39C222.2,-302.53 208.58,-272.42 196,-246.95 190.86,-236.54 184.88,-225.14 179.77,-215.59\"/>\n",
       "<polygon fill=\"deepskyblue\" stroke=\"deepskyblue\" stroke-width=\"2\" points=\"181.41,-214.93 177.5,-211.35 178.32,-216.59 181.41,-214.93\"/>\n",
       "</g>\n",
       "<!-- n12&#45;&gt;n16 -->\n",
       "<g id=\"edge21\" class=\"edge\">\n",
       "<title>n12&#45;&gt;n16</title>\n",
       "<path fill=\"none\" stroke=\"deepskyblue\" stroke-width=\"2\" d=\"M155.53,-180.23C138.66,-164.39 109.77,-137.26 101.98,-129.94\"/>\n",
       "</g>\n",
       "<!-- n13&#45;&gt;n14 -->\n",
       "<g id=\"edge22\" class=\"edge\">\n",
       "<title>n13&#45;&gt;n14</title>\n",
       "<path fill=\"none\" stroke=\"deepskyblue\" stroke-width=\"2\" d=\"M121.79,-320.41C118.05,-311.08 113.23,-299.04 109.08,-288.65\"/>\n",
       "<polygon fill=\"deepskyblue\" stroke=\"deepskyblue\" stroke-width=\"2\" points=\"110.8,-288.24 107.32,-284.25 107.55,-289.54 110.8,-288.24\"/>\n",
       "</g>\n",
       "<!-- n14&#45;&gt;n16 -->\n",
       "<g id=\"edge23\" class=\"edge\">\n",
       "<title>n14&#45;&gt;n16</title>\n",
       "<path fill=\"none\" stroke=\"deepskyblue\" stroke-width=\"2\" d=\"M100,-247.02C100,-214.29 100,-144.36 100,-130.49\"/>\n",
       "</g>\n",
       "<!-- n15&#45;&gt;n16 -->\n",
       "<g id=\"edge24\" class=\"edge\">\n",
       "<title>n15&#45;&gt;n16</title>\n",
       "<path fill=\"none\" stroke=\"deepskyblue\" stroke-width=\"2\" d=\"M24.16,-320.33C41.89,-275.38 92.2,-147.84 99.19,-130.13\"/>\n",
       "</g>\n",
       "<!-- n16&#45;&gt;n0 -->\n",
       "<g id=\"edge25\" class=\"edge\">\n",
       "<title>n16&#45;&gt;n0</title>\n",
       "<path fill=\"none\" stroke=\"deepskyblue\" stroke-width=\"6\" d=\"M100,-123.69C100,-117.76 100,-102 100,-90.34\"/>\n",
       "<polygon fill=\"deepskyblue\" stroke=\"deepskyblue\" stroke-width=\"6\" points=\"102.63,-90.53 100,-85.53 97.38,-90.53 102.63,-90.53\"/>\n",
       "</g>\n",
       "<!-- n0 -->\n",
       "<g id=\"node1\" class=\"node\">\n",
       "<title>n0</title>\n",
       "<ellipse fill=\"#bfefff\" stroke=\"black\" stroke-width=\"0\" cx=\"100\" cy=\"-75.6\" rx=\"3.6\" ry=\"3.6\"/>\n",
       "</g>\n",
       "<!-- n1 -->\n",
       "<g id=\"node2\" class=\"node\">\n",
       "<title>n1</title>\n",
       "<polygon fill=\"lawngreen\" stroke=\"black\" stroke-width=\"0\" points=\"127,-23.56 100,-36 73,-23.56 73.03,-3.44 126.97,-3.44 127,-23.56\"/>\n",
       "<text xml:space=\"preserve\" text-anchor=\"middle\" x=\"100\" y=\"-12.58\" font-family=\"Helvetica,sans-Serif\" font-size=\"14.00\">out</text>\n",
       "</g>\n",
       "<!-- n2 -->\n",
       "<g id=\"node3\" class=\"node\">\n",
       "<title>n2</title>\n",
       "<polygon fill=\"coral\" stroke=\"black\" stroke-width=\"0\" points=\"130,-463.14 157,-450.7 184,-463.14 183.97,-483.26 130.03,-483.26 130,-463.14\"/>\n",
       "<text xml:space=\"preserve\" text-anchor=\"middle\" x=\"157\" y=\"-463.28\" font-family=\"Helvetica,sans-Serif\" font-size=\"14.00\">r0</text>\n",
       "</g>\n",
       "<!-- n3 -->\n",
       "<g id=\"node4\" class=\"node\">\n",
       "<title>n3</title>\n",
       "<polygon fill=\"coral\" stroke=\"black\" stroke-width=\"0\" points=\"21,-463.14 48,-450.7 75,-463.14 74.97,-483.26 21.03,-483.26 21,-463.14\"/>\n",
       "<text xml:space=\"preserve\" text-anchor=\"middle\" x=\"48\" y=\"-463.28\" font-family=\"Helvetica,sans-Serif\" font-size=\"14.00\">r1</text>\n",
       "</g>\n",
       "<!-- n4 -->\n",
       "<g id=\"node5\" class=\"node\">\n",
       "<title>n4</title>\n",
       "<ellipse fill=\"#f0ffff\" stroke=\"black\" stroke-width=\"0\" cx=\"78\" cy=\"-402.83\" rx=\"9\" ry=\"9\"/>\n",
       "<text xml:space=\"preserve\" text-anchor=\"middle\" x=\"78\" y=\"-397.4\" font-family=\"Helvetica,sans-Serif\" font-size=\"14.00\">[0]</text>\n",
       "</g>\n",
       "<!-- n5 -->\n",
       "<g id=\"node6\" class=\"node\">\n",
       "<title>n5</title>\n",
       "<ellipse fill=\"#f0ffff\" stroke=\"black\" stroke-width=\"0\" cx=\"180\" cy=\"-402.83\" rx=\"9\" ry=\"9\"/>\n",
       "<text xml:space=\"preserve\" text-anchor=\"middle\" x=\"180\" y=\"-397.4\" font-family=\"Helvetica,sans-Serif\" font-size=\"14.00\">[1]</text>\n",
       "</g>\n",
       "<!-- n6 -->\n",
       "<g id=\"node7\" class=\"node\">\n",
       "<title>n6</title>\n",
       "<ellipse fill=\"#f0ffff\" stroke=\"black\" stroke-width=\"0\" cx=\"29\" cy=\"-402.83\" rx=\"9\" ry=\"9\"/>\n",
       "<text xml:space=\"preserve\" text-anchor=\"middle\" x=\"29\" y=\"-397.4\" font-family=\"Helvetica,sans-Serif\" font-size=\"14.00\">[0]</text>\n",
       "</g>\n",
       "<!-- n7 -->\n",
       "<g id=\"node8\" class=\"node\">\n",
       "<title>n7</title>\n",
       "<ellipse fill=\"#f0ffff\" stroke=\"black\" stroke-width=\"0\" cx=\"130\" cy=\"-402.83\" rx=\"9\" ry=\"9\"/>\n",
       "<text xml:space=\"preserve\" text-anchor=\"middle\" x=\"130\" y=\"-397.4\" font-family=\"Helvetica,sans-Serif\" font-size=\"14.00\">[1]</text>\n",
       "</g>\n",
       "<!-- n8 -->\n",
       "<g id=\"node9\" class=\"node\">\n",
       "<title>n8</title>\n",
       "<ellipse fill=\"#bfefff\" stroke=\"black\" stroke-width=\"0\" cx=\"73\" cy=\"-336.95\" rx=\"18\" ry=\"18\"/>\n",
       "<text xml:space=\"preserve\" text-anchor=\"middle\" x=\"73\" y=\"-331.53\" font-family=\"Helvetica,sans-Serif\" font-size=\"14.00\">and</text>\n",
       "</g>\n",
       "<!-- n9 -->\n",
       "<g id=\"node10\" class=\"node\">\n",
       "<title>n9</title>\n",
       "<ellipse fill=\"#bfefff\" stroke=\"black\" stroke-width=\"0\" cx=\"182\" cy=\"-336.95\" rx=\"18\" ry=\"18\"/>\n",
       "<text xml:space=\"preserve\" text-anchor=\"middle\" x=\"182\" y=\"-331.53\" font-family=\"Helvetica,sans-Serif\" font-size=\"14.00\">or</text>\n",
       "</g>\n",
       "<!-- n10 -->\n",
       "<g id=\"node11\" class=\"node\">\n",
       "<title>n10</title>\n",
       "<ellipse fill=\"#bfefff\" stroke=\"black\" stroke-width=\"0\" cx=\"168\" cy=\"-264.95\" rx=\"18\" ry=\"18\"/>\n",
       "<text xml:space=\"preserve\" text-anchor=\"middle\" x=\"168\" y=\"-259.53\" font-family=\"Helvetica,sans-Serif\" font-size=\"14.00\">and</text>\n",
       "</g>\n",
       "<!-- n11 -->\n",
       "<g id=\"node12\" class=\"node\">\n",
       "<title>n11</title>\n",
       "<ellipse fill=\"#bfefff\" stroke=\"black\" stroke-width=\"0\" cx=\"237\" cy=\"-336.95\" rx=\"18\" ry=\"18\"/>\n",
       "<text xml:space=\"preserve\" text-anchor=\"middle\" x=\"237\" y=\"-331.53\" font-family=\"Helvetica,sans-Serif\" font-size=\"14.00\">and</text>\n",
       "</g>\n",
       "<!-- n12 -->\n",
       "<g id=\"node13\" class=\"node\">\n",
       "<title>n12</title>\n",
       "<ellipse fill=\"#bfefff\" stroke=\"black\" stroke-width=\"0\" cx=\"168\" cy=\"-192.95\" rx=\"18\" ry=\"18\"/>\n",
       "<text xml:space=\"preserve\" text-anchor=\"middle\" x=\"168\" y=\"-187.53\" font-family=\"Helvetica,sans-Serif\" font-size=\"14.00\">or</text>\n",
       "</g>\n",
       "<!-- n13 -->\n",
       "<g id=\"node14\" class=\"node\">\n",
       "<title>n13</title>\n",
       "<ellipse fill=\"#bfefff\" stroke=\"black\" stroke-width=\"0\" cx=\"128\" cy=\"-336.95\" rx=\"18\" ry=\"18\"/>\n",
       "<text xml:space=\"preserve\" text-anchor=\"middle\" x=\"128\" y=\"-331.53\" font-family=\"Helvetica,sans-Serif\" font-size=\"14.00\">xor</text>\n",
       "</g>\n",
       "<!-- n14 -->\n",
       "<g id=\"node15\" class=\"node\">\n",
       "<title>n14</title>\n",
       "<ellipse fill=\"#bfefff\" stroke=\"black\" stroke-width=\"0\" cx=\"100\" cy=\"-264.95\" rx=\"18\" ry=\"18\"/>\n",
       "<text xml:space=\"preserve\" text-anchor=\"middle\" x=\"100\" y=\"-259.53\" font-family=\"Helvetica,sans-Serif\" font-size=\"14.00\">xor</text>\n",
       "</g>\n",
       "<!-- n15 -->\n",
       "<g id=\"node16\" class=\"node\">\n",
       "<title>n15</title>\n",
       "<ellipse fill=\"#bfefff\" stroke=\"black\" stroke-width=\"0\" cx=\"18\" cy=\"-336.95\" rx=\"18\" ry=\"18\"/>\n",
       "<text xml:space=\"preserve\" text-anchor=\"middle\" x=\"18\" y=\"-331.53\" font-family=\"Helvetica,sans-Serif\" font-size=\"14.00\">xor</text>\n",
       "</g>\n",
       "<!-- n16 -->\n",
       "<g id=\"node17\" class=\"node\">\n",
       "<title>n16</title>\n",
       "<ellipse fill=\"#bfefff\" stroke=\"black\" stroke-width=\"0\" cx=\"100\" cy=\"-127.08\" rx=\"3.6\" ry=\"3.6\"/>\n",
       "<text xml:space=\"preserve\" text-anchor=\"middle\" x=\"100\" y=\"-121.65\" font-family=\"Helvetica,sans-Serif\" font-size=\"14.00\">concat</text>\n",
       "</g>\n",
       "</g>\n",
       "</svg>\n"
      ],
      "text/plain": [
       "<pyrtl.core.Block at 0x1eedaa29a90>"
      ]
     },
     "execution_count": 17,
     "metadata": {},
     "output_type": "execute_result"
    }
   ],
   "source": [
    "working_block()"
   ]
  },
  {
   "cell_type": "code",
   "execution_count": 20,
   "id": "74fcefb1-33e4-4009-808d-d4e0dc0097b6",
   "metadata": {},
   "outputs": [
    {
     "name": "stdout",
     "output_type": "stream",
     "text": [
      "s (1,) [('r0', 2)] [('tmp13', 1)]\n",
      "s (0,) [('r0', 2)] [('tmp12', 1)]\n",
      "s (1,) [('r1', 2)] [('tmp15', 1)]\n",
      "s (0,) [('r1', 2)] [('tmp14', 1)]\n",
      "|  [('tmp13', 1), ('tmp15', 1)] [('tmp17', 1)]\n",
      "&  [('tmp13', 1), ('tmp15', 1)] [('tmp19', 1)]\n",
      "^  [('tmp13', 1), ('tmp15', 1)] [('tmp21', 1)]\n",
      "^  [('tmp12', 1), ('tmp14', 1)] [('tmp23', 1)]\n",
      "&  [('tmp12', 1), ('tmp14', 1)] [('tmp16', 1)]\n",
      "&  [('tmp16', 1), ('tmp17', 1)] [('tmp18', 1)]\n",
      "^  [('tmp21', 1), ('tmp16', 1)] [('tmp22', 1)]\n",
      "|  [('tmp18', 1), ('tmp19', 1)] [('tmp20', 1)]\n",
      "c  [('tmp20', 1), ('tmp22', 1), ('tmp23', 1)] [('tmp24', 3)]\n",
      "w  [('tmp24', 3)] [('out', 3)]\n"
     ]
    }
   ],
   "source": [
    "wb = working_block()\n",
    "for net in wb:\n",
    "    print(net.op, net.op_param or '', [(a.name, a.bitwidth) for a in net.args], [(a.name, a.bitwidth) for a in net.dests])\n"
   ]
  },
  {
   "cell_type": "markdown",
   "id": "e6da5ff9-d61b-49d7-bd42-e98b675ee585",
   "metadata": {},
   "source": [
    "#### Verifying\n",
    "_Following is a manual translation of the circuit into a Boolean formula._"
   ]
  },
  {
   "cell_type": "code",
   "execution_count": 22,
   "id": "776624e4-353f-4701-8280-d232e972746a",
   "metadata": {},
   "outputs": [],
   "source": [
    "from z3 import BitVec, BV2Int\n",
    "\n",
    "_r = [BitVec('r%i'%i, 2) for i in range(2)]\n",
    "out = BitVec('out', 3)\n",
    "\n",
    "r = [[z3.Extract(i, i, b) for i in range(2)] for b in _r]\n",
    "\n",
    "c = [r[0][0] & r[1][0]]\n",
    "c.append(c[0] & (r[0][1] | r[1][1]) | r[0][1] & r[1][1])\n",
    "\n",
    "s = z3.Solver()\n",
    "s.add(out == z3.Concat(c[1], r[0][1] ^ r[1][1] ^ c[0], r[0][0] ^ r[1][0]))"
   ]
  },
  {
   "cell_type": "code",
   "execution_count": 23,
   "id": "24e21c0a-bd49-4473-bec3-2e2839e292ef",
   "metadata": {},
   "outputs": [
    {
     "data": {
      "text/html": [
       "[out =\n",
       " Concat(Concat(Extract(0, 0, r0) &\n",
       "               Extract(0, 0, r1) &\n",
       "               (Extract(1, 1, r0) | Extract(1, 1, r1)) |\n",
       "               Extract(1, 1, r0) & Extract(1, 1, r1),\n",
       "               Extract(1, 1, r0) ^\n",
       "               Extract(1, 1, r1) ^\n",
       "               Extract(0, 0, r0) & Extract(0, 0, r1)),\n",
       "        Extract(0, 0, r0) ^ Extract(0, 0, r1))]"
      ],
      "text/plain": [
       "[out ==\n",
       " Concat(Concat(Extract(0, 0, r0) &\n",
       "               Extract(0, 0, r1) &\n",
       "               (Extract(1, 1, r0) | Extract(1, 1, r1)) |\n",
       "               Extract(1, 1, r0) & Extract(1, 1, r1),\n",
       "               Extract(1, 1, r0) ^\n",
       "               Extract(1, 1, r1) ^\n",
       "               Extract(0, 0, r0) & Extract(0, 0, r1)),\n",
       "        Extract(0, 0, r0) ^ Extract(0, 0, r1))]"
      ]
     },
     "execution_count": 23,
     "metadata": {},
     "output_type": "execute_result"
    }
   ],
   "source": [
    "s"
   ]
  },
  {
   "cell_type": "code",
   "execution_count": 24,
   "id": "4de72fc6-5711-4ee5-acd7-dc7b532197a7",
   "metadata": {},
   "outputs": [],
   "source": [
    "from z3 import BitVec, BV2Int\n",
    "\n",
    "_r = [BitVec('r%i'%i, 2) for i in range(2)]\n",
    "out = BitVec('out', 3)\n",
    "\n",
    "r = [[z3.Extract(i, i, b) for i in range(2)] for b in _r]\n",
    "\n",
    "c = [r[0][0] & r[1][0]]\n",
    "c.append(c[0] & (r[0][1] | r[1][1]) | r[0][1] & r[1][1])\n",
    "\n",
    "s = z3.Solver()\n",
    "s.add(out == z3.Concat(c[1], r[0][1] ^ r[1][1] ^ c[0], r[0][0] ^ r[1][0]))"
   ]
  },
  {
   "cell_type": "code",
   "execution_count": 25,
   "id": "a9e8d66b-5c3b-4f4d-bb59-1a0537016f70",
   "metadata": {},
   "outputs": [
    {
     "data": {
      "text/html": [
       "[r0 = 0, r1 = 0, out = 0]"
      ],
      "text/plain": [
       "[r0 = 0, r1 = 0, out = 0]"
      ]
     },
     "execution_count": 25,
     "metadata": {},
     "output_type": "execute_result"
    }
   ],
   "source": [
    "#s.add(_r[0] != 0)\n",
    "s.check()\n",
    "s.model()"
   ]
  },
  {
   "cell_type": "code",
   "execution_count": 26,
   "id": "25bec530-620e-4990-8fe0-dccfe0174a64",
   "metadata": {},
   "outputs": [
    {
     "data": {
      "text/html": [
       "<b>unsat</b>"
      ],
      "text/plain": [
       "unsat"
      ]
     },
     "execution_count": 26,
     "metadata": {},
     "output_type": "execute_result"
    }
   ],
   "source": [
    "res = s.check([z3.Not(BV2Int(_r[0]) + BV2Int(_r[1]) == BV2Int(out))])\n",
    "res"
   ]
  },
  {
   "cell_type": "markdown",
   "id": "cafe423c-e4da-44a6-9d35-bc908d8487de",
   "metadata": {},
   "source": [
    "_Implement a function_ `net_to_smt` _that will do the same (or equivalent) translation automatically._"
   ]
  },
  {
   "cell_type": "code",
   "execution_count": 27,
   "id": "61fc1d58",
   "metadata": {},
   "outputs": [
    {
     "name": "stdout",
     "output_type": "stream",
     "text": [
      "tmp17 == tmp13 | tmp15\n",
      "tmp19 == tmp13 & tmp15\n",
      "tmp21 == tmp13 ^ tmp15\n",
      "tmp23 == tmp12 ^ tmp14\n",
      "tmp16 == tmp12 & tmp14\n",
      "tmp18 == tmp16 & tmp17\n",
      "tmp22 == tmp21 ^ tmp16\n",
      "tmp20 == tmp18 | tmp19\n",
      "tmp24 == Concat(Concat(tmp20, tmp22), tmp23)\n",
      "out == tmp24\n"
     ]
    }
   ],
   "source": [
    "#from circuit import net_to_smt\n",
    "\n",
    "wires, ops, assertions = net_to_smt(wb)\n",
    "\n",
    "s = z3.Solver()\n",
    "for phi in assertions:\n",
    "    print(phi)\n",
    "    s.add(phi)"
   ]
  },
  {
   "cell_type": "code",
   "execution_count": 29,
   "id": "898f0277-a7ad-4ed5-b04d-52709791961d",
   "metadata": {},
   "outputs": [
    {
     "data": {
      "text/html": [
       "<b>sat</b>"
      ],
      "text/plain": [
       "sat"
      ]
     },
     "execution_count": 29,
     "metadata": {},
     "output_type": "execute_result"
    }
   ],
   "source": [
    "res = s.check([z3.Not(BV2Int(wires['r0']) + BV2Int(wires['r1']) == BV2Int(wires['out']))])\n",
    "res"
   ]
  },
  {
   "cell_type": "code",
   "execution_count": 30,
   "id": "9cc42acb-d764-4fb4-89a5-fb770ebb79ec",
   "metadata": {},
   "outputs": [
    {
     "data": {
      "text/html": [
       "[tmp24 = 5,\n",
       " r0 = 1,\n",
       " r1 = 3,\n",
       " tmp18 = 0,\n",
       " tmp15 = 1,\n",
       " tmp20 = 1,\n",
       " tmp13 = 1,\n",
       " tmp16 = 0,\n",
       " tmp19 = 1,\n",
       " tmp22 = 0,\n",
       " tmp17 = 1,\n",
       " tmp14 = 0,\n",
       " out = 5,\n",
       " tmp23 = 1,\n",
       " tmp21 = 0,\n",
       " tmp12 = 1]"
      ],
      "text/plain": [
       "[tmp24 = 5,\n",
       " r0 = 1,\n",
       " r1 = 3,\n",
       " tmp18 = 0,\n",
       " tmp15 = 1,\n",
       " tmp20 = 1,\n",
       " tmp13 = 1,\n",
       " tmp16 = 0,\n",
       " tmp19 = 1,\n",
       " tmp22 = 0,\n",
       " tmp17 = 1,\n",
       " tmp14 = 0,\n",
       " out = 5,\n",
       " tmp23 = 1,\n",
       " tmp21 = 0,\n",
       " tmp12 = 1]"
      ]
     },
     "execution_count": 30,
     "metadata": {},
     "output_type": "execute_result"
    }
   ],
   "source": [
    "s.model() if res == z3.sat else None"
   ]
  },
  {
   "cell_type": "markdown",
   "id": "d141a2b2-e5e3-4595-ba07-8790810aabc9",
   "metadata": {},
   "source": [
    "## Verify something with memory?"
   ]
  },
  {
   "cell_type": "code",
   "execution_count": 31,
   "id": "ee115bc1-e285-4881-ae5f-10df5aa0b97c",
   "metadata": {},
   "outputs": [],
   "source": [
    "reset_working_block()\n",
    "\n",
    "sp = Register(bitwidth=3, name='sp')\n",
    "mem = MemBlock(bitwidth=3, addrwidth=3, name='mem', max_write_ports=2)\n",
    "\n",
    "mem[sp] <<= (mem[sp] + 1)[:3]\n",
    "mem[0] <<= 0\n",
    "sp.next <<= sp + 1"
   ]
  },
  {
   "cell_type": "code",
   "execution_count": 32,
   "id": "99f03aae-7e26-4f9f-a59f-3a96fa0a5348",
   "metadata": {},
   "outputs": [
    {
     "data": {
      "text/html": [
       "<script type=\"WaveDrom\">\n",
       "{\n",
       "  signal : [\n",
       "    { name: \"sp\",  wave: \"=============\", data: [\"0x0\", \"0x1\", \"0x2\", \"0x3\", \"0x4\", \"0x5\", \"0x6\", \"0x7\", \"0x0\", \"0x1\", \"0x2\", \"0x3\", \"0x4\"] },\n",
       "  ],\n",
       "  config: { hscale: 1 }\n",
       "}\n",
       "</script>\n"
      ],
      "text/plain": [
       "<IPython.core.display.HTML object>"
      ]
     },
     "metadata": {},
     "output_type": "display_data"
    },
    {
     "data": {
      "application/javascript": "\n            $.when(\n            $.getScript(\"https://cdnjs.cloudflare.com/ajax/libs/wavedrom/1.6.2/skins/default.js\"),\n            $.getScript(\"https://cdnjs.cloudflare.com/ajax/libs/wavedrom/1.6.2/wavedrom.min.js\"),\n            $.Deferred(function( deferred ){\n                $( deferred.resolve );\n            })).done(function(){\n                WaveDrom.ProcessAll();\n            });",
      "text/plain": [
       "<IPython.core.display.Javascript object>"
      ]
     },
     "metadata": {},
     "output_type": "display_data"
    }
   ],
   "source": [
    "sim_trace = pyrtl.SimulationTrace()\n",
    "sim = pyrtl.Simulation(tracer=sim_trace)\n",
    "for cycle in range(13):\n",
    "    sim.step({})\n",
    "\n",
    "sim_trace.render_trace()"
   ]
  },
  {
   "cell_type": "code",
   "execution_count": 33,
   "id": "7fd43ca5-4460-458f-8e71-5e1ab624ef88",
   "metadata": {},
   "outputs": [
    {
     "data": {
      "text/plain": [
       "{0: 0, 1: 2, 2: 2, 3: 2, 4: 2, 5: 1, 6: 1, 7: 1}"
      ]
     },
     "execution_count": 33,
     "metadata": {},
     "output_type": "execute_result"
    }
   ],
   "source": [
    "sim.inspect_mem(mem)"
   ]
  },
  {
   "cell_type": "code",
   "execution_count": 34,
   "id": "1cef9442-22d7-42af-8501-865a42b8c69e",
   "metadata": {},
   "outputs": [
    {
     "data": {
      "image/svg+xml": [
       "<?xml version=\"1.0\" encoding=\"UTF-8\" standalone=\"no\"?>\n",
       "<!DOCTYPE svg PUBLIC \"-//W3C//DTD SVG 1.1//EN\"\n",
       " \"http://www.w3.org/Graphics/SVG/1.1/DTD/svg11.dtd\">\n",
       "<!-- Generated by graphviz version 13.0.0 (20250608.1624)\n",
       " -->\n",
       "<!-- Title: g Pages: 1 -->\n",
       "<svg width=\"431pt\" height=\"476pt\"\n",
       " viewBox=\"0.00 0.00 431.00 476.00\" xmlns=\"http://www.w3.org/2000/svg\" xmlns:xlink=\"http://www.w3.org/1999/xlink\">\n",
       "<g id=\"graph0\" class=\"graph\" transform=\"scale(1 1) rotate(0) translate(4 472)\">\n",
       "<title>g</title>\n",
       "<polygon fill=\"white\" stroke=\"none\" points=\"-4,4 -4,-472 427,-472 427,4 -4,4\"/>\n",
       "<!-- n0&#45;&gt;n14 -->\n",
       "<g id=\"edge1\" class=\"edge\">\n",
       "<title>n0&#45;&gt;n14</title>\n",
       "<path fill=\"none\" stroke=\"deepskyblue\" stroke-width=\"2\" d=\"M24.44,-289.46C31.64,-272.06 42.75,-245.25 46.05,-237.3\"/>\n",
       "</g>\n",
       "<!-- n1&#45;&gt;n13 -->\n",
       "<g id=\"edge2\" class=\"edge\">\n",
       "<title>n1&#45;&gt;n13</title>\n",
       "<path fill=\"none\" stroke=\"deepskyblue\" stroke-width=\"2\" d=\"M76,-360.05C76,-345.65 76,-325.63 76,-314.76\"/>\n",
       "</g>\n",
       "<!-- n3&#45;&gt;n2 -->\n",
       "<g id=\"edge3\" class=\"edge\">\n",
       "<title>n3&#45;&gt;n2</title>\n",
       "<path fill=\"none\" stroke=\"deepskyblue\" stroke-width=\"2\" d=\"M86.72,-75.83C95.4,-65.18 107.74,-50.02 117.49,-38.04\"/>\n",
       "<polygon fill=\"deepskyblue\" stroke=\"deepskyblue\" stroke-width=\"2\" points=\"118.62,-39.44 120.42,-34.45 115.9,-37.23 118.62,-39.44\"/>\n",
       "</g>\n",
       "<!-- n4&#45;&gt;n5 -->\n",
       "<g id=\"edge4\" class=\"edge\">\n",
       "<title>n4&#45;&gt;n5</title>\n",
       "<path fill=\"none\" stroke=\"deepskyblue\" stroke-width=\"6\" d=\"M307.41,-435.5C314.88,-425.82 325.12,-412.55 333.79,-401.3\"/>\n",
       "<polygon fill=\"deepskyblue\" stroke=\"deepskyblue\" stroke-width=\"6\" points=\"335.7,-403.13 336.68,-397.57 331.55,-399.92 335.7,-403.13\"/>\n",
       "</g>\n",
       "<!-- n6&#45;&gt;n5 -->\n",
       "<g id=\"edge5\" class=\"edge\">\n",
       "<title>n6&#45;&gt;n5</title>\n",
       "<path fill=\"none\" stroke=\"deepskyblue\" stroke-width=\"2\" d=\"M351,-432.05C351,-423.54 351,-413.07 351,-403.68\"/>\n",
       "<polygon fill=\"deepskyblue\" stroke=\"deepskyblue\" stroke-width=\"2\" points=\"352.75,-403.82 351,-398.82 349.25,-403.82 352.75,-403.82\"/>\n",
       "</g>\n",
       "<!-- n7&#45;&gt;n5 -->\n",
       "<g id=\"edge6\" class=\"edge\">\n",
       "<title>n7&#45;&gt;n5</title>\n",
       "<path fill=\"none\" stroke=\"deepskyblue\" stroke-width=\"6\" d=\"M394.59,-435.5C387.12,-425.82 376.88,-412.55 368.21,-401.3\"/>\n",
       "<polygon fill=\"deepskyblue\" stroke=\"deepskyblue\" stroke-width=\"6\" points=\"370.45,-399.92 365.32,-397.57 366.3,-403.13 370.45,-399.92\"/>\n",
       "</g>\n",
       "<!-- n8&#45;&gt;n18 -->\n",
       "<g id=\"edge7\" class=\"edge\">\n",
       "<title>n8&#45;&gt;n18</title>\n",
       "<path fill=\"none\" stroke=\"deepskyblue\" stroke-width=\"2\" d=\"M273.56,-361.46C266.36,-344.06 255.25,-317.25 251.95,-309.3\"/>\n",
       "</g>\n",
       "<!-- n9&#45;&gt;n17 -->\n",
       "<g id=\"edge8\" class=\"edge\">\n",
       "<title>n9&#45;&gt;n17</title>\n",
       "<path fill=\"none\" stroke=\"deepskyblue\" stroke-width=\"2\" d=\"M222,-432.05C222,-417.65 222,-397.63 222,-386.76\"/>\n",
       "</g>\n",
       "<!-- n11&#45;&gt;n2 -->\n",
       "<g id=\"edge9\" class=\"edge\">\n",
       "<title>n11&#45;&gt;n2</title>\n",
       "<path fill=\"none\" stroke=\"deepskyblue\" stroke-width=\"6\" d=\"M187.59,-288.14C188.47,-249.1 187.85,-149.87 163,-72 159.72,-61.72 154.29,-51.21 148.94,-42.29\"/>\n",
       "<polygon fill=\"deepskyblue\" stroke=\"deepskyblue\" stroke-width=\"6\" points=\"151.18,-40.93 146.29,-38.11 146.75,-43.74 151.18,-40.93\"/>\n",
       "</g>\n",
       "<!-- n11&#45;&gt;n12 -->\n",
       "<g id=\"edge10\" class=\"edge\">\n",
       "<title>n11&#45;&gt;n12</title>\n",
       "<path fill=\"none\" stroke=\"deepskyblue\" stroke-width=\"6\" d=\"M172.48,-288.05C164.4,-278.64 154.27,-266.82 145.62,-256.73\"/>\n",
       "<polygon fill=\"deepskyblue\" stroke=\"deepskyblue\" stroke-width=\"6\" points=\"147.64,-255.05 142.4,-252.96 143.66,-258.47 147.64,-255.05\"/>\n",
       "</g>\n",
       "<!-- n11&#45;&gt;n19 -->\n",
       "<g id=\"edge11\" class=\"edge\">\n",
       "<title>n11&#45;&gt;n19</title>\n",
       "<path fill=\"none\" stroke=\"deepskyblue\" stroke-width=\"6\" d=\"M202.25,-288.05C210.93,-278.42 221.86,-266.26 231.08,-256.02\"/>\n",
       "<polygon fill=\"deepskyblue\" stroke=\"deepskyblue\" stroke-width=\"6\" points=\"232.93,-257.89 234.32,-252.42 229.03,-254.38 232.93,-257.89\"/>\n",
       "</g>\n",
       "<!-- n12&#45;&gt;n15 -->\n",
       "<g id=\"edge12\" class=\"edge\">\n",
       "<title>n12&#45;&gt;n15</title>\n",
       "<path fill=\"none\" stroke=\"deepskyblue\" stroke-width=\"6\" d=\"M127,-216.05C127,-208.57 127,-199.58 127,-191.14\"/>\n",
       "<polygon fill=\"deepskyblue\" stroke=\"deepskyblue\" stroke-width=\"6\" points=\"129.63,-191.24 127,-186.24 124.38,-191.24 129.63,-191.24\"/>\n",
       "</g>\n",
       "<!-- n13&#45;&gt;n14 -->\n",
       "<g id=\"edge13\" class=\"edge\">\n",
       "<title>n13&#45;&gt;n14</title>\n",
       "<path fill=\"none\" stroke=\"deepskyblue\" stroke-width=\"6\" d=\"M73.01,-297.77C66.58,-282.26 51.74,-246.45 47.91,-237.21\"/>\n",
       "</g>\n",
       "<!-- n14&#45;&gt;n15 -->\n",
       "<g id=\"edge14\" class=\"edge\">\n",
       "<title>n14&#45;&gt;n15</title>\n",
       "<path fill=\"none\" stroke=\"deepskyblue\" stroke-width=\"6\" d=\"M48.98,-231.27C56.69,-224.52 85.33,-199.46 105.67,-181.66\"/>\n",
       "<polygon fill=\"deepskyblue\" stroke=\"deepskyblue\" stroke-width=\"6\" points=\"107.17,-183.84 109.2,-178.57 103.71,-179.89 107.17,-183.84\"/>\n",
       "</g>\n",
       "<!-- n15&#45;&gt;n16 -->\n",
       "<g id=\"edge15\" class=\"edge\">\n",
       "<title>n15&#45;&gt;n16</title>\n",
       "<path fill=\"none\" stroke=\"deepskyblue\" stroke-width=\"6\" d=\"M128.42,-144.41C129.66,-130.02 131.39,-109.82 132.33,-98.85\"/>\n",
       "</g>\n",
       "<!-- n16&#45;&gt;n2 -->\n",
       "<g id=\"edge16\" class=\"edge\">\n",
       "<title>n16&#45;&gt;n2</title>\n",
       "<path fill=\"none\" stroke=\"deepskyblue\" stroke-width=\"6\" d=\"M133,-81.24C133,-72.99 133,-59.44 133,-47.09\"/>\n",
       "<polygon fill=\"deepskyblue\" stroke=\"deepskyblue\" stroke-width=\"6\" points=\"135.63,-47.28 133,-42.28 130.38,-47.28 135.63,-47.28\"/>\n",
       "</g>\n",
       "<!-- n17&#45;&gt;n18 -->\n",
       "<g id=\"edge17\" class=\"edge\">\n",
       "<title>n17&#45;&gt;n18</title>\n",
       "<path fill=\"none\" stroke=\"deepskyblue\" stroke-width=\"6\" d=\"M224.99,-369.77C231.42,-354.26 246.26,-318.45 250.09,-309.21\"/>\n",
       "</g>\n",
       "<!-- n18&#45;&gt;n19 -->\n",
       "<g id=\"edge18\" class=\"edge\">\n",
       "<title>n18&#45;&gt;n19</title>\n",
       "<path fill=\"none\" stroke=\"deepskyblue\" stroke-width=\"6\" d=\"M250.97,-302.67C250.88,-296.47 250.63,-278.97 250.4,-263.31\"/>\n",
       "<polygon fill=\"deepskyblue\" stroke=\"deepskyblue\" stroke-width=\"6\" points=\"253.03,-263.34 250.33,-258.38 247.78,-263.41 253.03,-263.34\"/>\n",
       "</g>\n",
       "<!-- n19&#45;&gt;n20 -->\n",
       "<g id=\"edge19\" class=\"edge\">\n",
       "<title>n19&#45;&gt;n20</title>\n",
       "<path fill=\"none\" stroke=\"deepskyblue\" stroke-width=\"6\" d=\"M250,-216.05C250,-201.65 250,-181.63 250,-170.76\"/>\n",
       "</g>\n",
       "<!-- n20&#45;&gt;n10 -->\n",
       "<g id=\"edge20\" class=\"edge\">\n",
       "<title>n20&#45;&gt;n10</title>\n",
       "<path fill=\"none\" stroke=\"deepskyblue\" stroke-width=\"6\" d=\"M250,-153.24C250,-144.99 250,-131.44 250,-119.09\"/>\n",
       "<polygon fill=\"deepskyblue\" stroke=\"deepskyblue\" stroke-width=\"6\" points=\"252.63,-119.28 250,-114.28 247.38,-119.28 252.63,-119.28\"/>\n",
       "</g>\n",
       "<!-- n0 -->\n",
       "<g id=\"node1\" class=\"node\">\n",
       "<title>n0</title>\n",
       "<ellipse fill=\"lightgrey\" stroke=\"black\" stroke-width=\"0\" cx=\"18\" cy=\"-306\" rx=\"18\" ry=\"18\"/>\n",
       "<text xml:space=\"preserve\" text-anchor=\"middle\" x=\"18\" y=\"-300.57\" font-family=\"Helvetica,sans-Serif\" font-size=\"14.00\">1</text>\n",
       "</g>\n",
       "<!-- n1 -->\n",
       "<g id=\"node2\" class=\"node\">\n",
       "<title>n1</title>\n",
       "<ellipse fill=\"lightgrey\" stroke=\"black\" stroke-width=\"0\" cx=\"76\" cy=\"-378\" rx=\"18\" ry=\"18\"/>\n",
       "<text xml:space=\"preserve\" text-anchor=\"middle\" x=\"76\" y=\"-372.57\" font-family=\"Helvetica,sans-Serif\" font-size=\"14.00\">0</text>\n",
       "</g>\n",
       "<!-- n2 -->\n",
       "<g id=\"node3\" class=\"node\">\n",
       "<title>n2</title>\n",
       "<ellipse fill=\"#bfefff\" stroke=\"black\" stroke-width=\"0\" cx=\"133\" cy=\"-18\" rx=\"18\" ry=\"18\"/>\n",
       "<text xml:space=\"preserve\" text-anchor=\"middle\" x=\"133\" y=\"-12.57\" font-family=\"Helvetica,sans-Serif\" font-size=\"14.00\">@(mem)</text>\n",
       "</g>\n",
       "<!-- n3 -->\n",
       "<g id=\"node4\" class=\"node\">\n",
       "<title>n3</title>\n",
       "<ellipse fill=\"lightgrey\" stroke=\"black\" stroke-width=\"0\" cx=\"76\" cy=\"-90\" rx=\"18\" ry=\"18\"/>\n",
       "<text xml:space=\"preserve\" text-anchor=\"middle\" x=\"76\" y=\"-84.58\" font-family=\"Helvetica,sans-Serif\" font-size=\"14.00\">1</text>\n",
       "</g>\n",
       "<!-- n4 -->\n",
       "<g id=\"node5\" class=\"node\">\n",
       "<title>n4</title>\n",
       "<ellipse fill=\"lightgrey\" stroke=\"black\" stroke-width=\"0\" cx=\"297\" cy=\"-450\" rx=\"18\" ry=\"18\"/>\n",
       "<text xml:space=\"preserve\" text-anchor=\"middle\" x=\"297\" y=\"-444.57\" font-family=\"Helvetica,sans-Serif\" font-size=\"14.00\">0</text>\n",
       "</g>\n",
       "<!-- n5 -->\n",
       "<g id=\"node6\" class=\"node\">\n",
       "<title>n5</title>\n",
       "<ellipse fill=\"#bfefff\" stroke=\"black\" stroke-width=\"0\" cx=\"351\" cy=\"-378\" rx=\"18\" ry=\"18\"/>\n",
       "<text xml:space=\"preserve\" text-anchor=\"middle\" x=\"351\" y=\"-372.57\" font-family=\"Helvetica,sans-Serif\" font-size=\"14.00\">@(mem)</text>\n",
       "</g>\n",
       "<!-- n6 -->\n",
       "<g id=\"node7\" class=\"node\">\n",
       "<title>n6</title>\n",
       "<ellipse fill=\"lightgrey\" stroke=\"black\" stroke-width=\"0\" cx=\"351\" cy=\"-450\" rx=\"18\" ry=\"18\"/>\n",
       "<text xml:space=\"preserve\" text-anchor=\"middle\" x=\"351\" y=\"-444.57\" font-family=\"Helvetica,sans-Serif\" font-size=\"14.00\">1</text>\n",
       "</g>\n",
       "<!-- n7 -->\n",
       "<g id=\"node8\" class=\"node\">\n",
       "<title>n7</title>\n",
       "<ellipse fill=\"lightgrey\" stroke=\"black\" stroke-width=\"0\" cx=\"405\" cy=\"-450\" rx=\"18\" ry=\"18\"/>\n",
       "<text xml:space=\"preserve\" text-anchor=\"middle\" x=\"405\" y=\"-444.57\" font-family=\"Helvetica,sans-Serif\" font-size=\"14.00\">0</text>\n",
       "</g>\n",
       "<!-- n8 -->\n",
       "<g id=\"node9\" class=\"node\">\n",
       "<title>n8</title>\n",
       "<ellipse fill=\"lightgrey\" stroke=\"black\" stroke-width=\"0\" cx=\"280\" cy=\"-378\" rx=\"18\" ry=\"18\"/>\n",
       "<text xml:space=\"preserve\" text-anchor=\"middle\" x=\"280\" y=\"-372.57\" font-family=\"Helvetica,sans-Serif\" font-size=\"14.00\">1</text>\n",
       "</g>\n",
       "<!-- n9 -->\n",
       "<g id=\"node10\" class=\"node\">\n",
       "<title>n9</title>\n",
       "<ellipse fill=\"lightgrey\" stroke=\"black\" stroke-width=\"0\" cx=\"222\" cy=\"-450\" rx=\"18\" ry=\"18\"/>\n",
       "<text xml:space=\"preserve\" text-anchor=\"middle\" x=\"222\" y=\"-444.57\" font-family=\"Helvetica,sans-Serif\" font-size=\"14.00\">0</text>\n",
       "</g>\n",
       "<!-- n10 -->\n",
       "<g id=\"node11\" class=\"node\">\n",
       "<title>n10</title>\n",
       "<polygon fill=\"gold\" stroke=\"black\" stroke-width=\"0\" points=\"268,-108 232,-108 232,-72 268,-72 268,-108\"/>\n",
       "<text xml:space=\"preserve\" text-anchor=\"middle\" x=\"250\" y=\"-84.58\" font-family=\"Helvetica,sans-Serif\" font-size=\"14.00\">sp.next</text>\n",
       "</g>\n",
       "<!-- n11 -->\n",
       "<g id=\"node12\" class=\"node\">\n",
       "<title>n11</title>\n",
       "<polygon fill=\"gold\" stroke=\"black\" stroke-width=\"0\" points=\"205,-324 169,-324 169,-288 205,-288 205,-324\"/>\n",
       "<text xml:space=\"preserve\" text-anchor=\"middle\" x=\"187\" y=\"-300.57\" font-family=\"Helvetica,sans-Serif\" font-size=\"14.00\">sp</text>\n",
       "</g>\n",
       "<!-- n12 -->\n",
       "<g id=\"node13\" class=\"node\">\n",
       "<title>n12</title>\n",
       "<ellipse fill=\"#bfefff\" stroke=\"black\" stroke-width=\"0\" cx=\"127\" cy=\"-234\" rx=\"18\" ry=\"18\"/>\n",
       "<text xml:space=\"preserve\" text-anchor=\"middle\" x=\"127\" y=\"-228.57\" font-family=\"Helvetica,sans-Serif\" font-size=\"14.00\">m(mem)</text>\n",
       "</g>\n",
       "<!-- n13 -->\n",
       "<g id=\"node14\" class=\"node\">\n",
       "<title>n13</title>\n",
       "<ellipse fill=\"#f0ffff\" stroke=\"black\" stroke-width=\"0\" cx=\"76\" cy=\"-306\" rx=\"9\" ry=\"9\"/>\n",
       "<text xml:space=\"preserve\" text-anchor=\"middle\" x=\"76\" y=\"-300.57\" font-family=\"Helvetica,sans-Serif\" font-size=\"14.00\">[0]*2</text>\n",
       "</g>\n",
       "<!-- n14 -->\n",
       "<g id=\"node15\" class=\"node\">\n",
       "<title>n14</title>\n",
       "<ellipse fill=\"#bfefff\" stroke=\"black\" stroke-width=\"0\" cx=\"47\" cy=\"-234\" rx=\"3.6\" ry=\"3.6\"/>\n",
       "<text xml:space=\"preserve\" text-anchor=\"middle\" x=\"47\" y=\"-228.57\" font-family=\"Helvetica,sans-Serif\" font-size=\"14.00\">concat</text>\n",
       "</g>\n",
       "<!-- n15 -->\n",
       "<g id=\"node16\" class=\"node\">\n",
       "<title>n15</title>\n",
       "<ellipse fill=\"#bfefff\" stroke=\"black\" stroke-width=\"0\" cx=\"127\" cy=\"-162\" rx=\"18\" ry=\"18\"/>\n",
       "<text xml:space=\"preserve\" text-anchor=\"middle\" x=\"127\" y=\"-156.57\" font-family=\"Helvetica,sans-Serif\" font-size=\"14.00\">+</text>\n",
       "</g>\n",
       "<!-- n16 -->\n",
       "<g id=\"node17\" class=\"node\">\n",
       "<title>n16</title>\n",
       "<ellipse fill=\"#f0ffff\" stroke=\"black\" stroke-width=\"0\" cx=\"133\" cy=\"-90\" rx=\"9\" ry=\"9\"/>\n",
       "<text xml:space=\"preserve\" text-anchor=\"middle\" x=\"133\" y=\"-84.58\" font-family=\"Helvetica,sans-Serif\" font-size=\"14.00\">[2:0]</text>\n",
       "</g>\n",
       "<!-- n17 -->\n",
       "<g id=\"node18\" class=\"node\">\n",
       "<title>n17</title>\n",
       "<ellipse fill=\"#f0ffff\" stroke=\"black\" stroke-width=\"0\" cx=\"222\" cy=\"-378\" rx=\"9\" ry=\"9\"/>\n",
       "<text xml:space=\"preserve\" text-anchor=\"middle\" x=\"222\" y=\"-372.57\" font-family=\"Helvetica,sans-Serif\" font-size=\"14.00\">[0]*2</text>\n",
       "</g>\n",
       "<!-- n18 -->\n",
       "<g id=\"node19\" class=\"node\">\n",
       "<title>n18</title>\n",
       "<ellipse fill=\"#bfefff\" stroke=\"black\" stroke-width=\"0\" cx=\"251\" cy=\"-306\" rx=\"3.6\" ry=\"3.6\"/>\n",
       "<text xml:space=\"preserve\" text-anchor=\"middle\" x=\"251\" y=\"-300.57\" font-family=\"Helvetica,sans-Serif\" font-size=\"14.00\">concat</text>\n",
       "</g>\n",
       "<!-- n19 -->\n",
       "<g id=\"node20\" class=\"node\">\n",
       "<title>n19</title>\n",
       "<ellipse fill=\"#bfefff\" stroke=\"black\" stroke-width=\"0\" cx=\"250\" cy=\"-234\" rx=\"18\" ry=\"18\"/>\n",
       "<text xml:space=\"preserve\" text-anchor=\"middle\" x=\"250\" y=\"-228.57\" font-family=\"Helvetica,sans-Serif\" font-size=\"14.00\">+</text>\n",
       "</g>\n",
       "<!-- n20 -->\n",
       "<g id=\"node21\" class=\"node\">\n",
       "<title>n20</title>\n",
       "<ellipse fill=\"#f0ffff\" stroke=\"black\" stroke-width=\"0\" cx=\"250\" cy=\"-162\" rx=\"9\" ry=\"9\"/>\n",
       "<text xml:space=\"preserve\" text-anchor=\"middle\" x=\"250\" y=\"-156.57\" font-family=\"Helvetica,sans-Serif\" font-size=\"14.00\">[2:0]</text>\n",
       "</g>\n",
       "</g>\n",
       "</svg>\n"
      ],
      "text/plain": [
       "<pyrtl.core.Block at 0x1eedaa31310>"
      ]
     },
     "execution_count": 34,
     "metadata": {},
     "output_type": "execute_result"
    }
   ],
   "source": [
    "working_block()"
   ]
  },
  {
   "cell_type": "code",
   "execution_count": 35,
   "id": "7fc8646d-c1b8-49e7-917e-d366adb630e2",
   "metadata": {},
   "outputs": [
    {
     "name": "stdout",
     "output_type": "stream",
     "text": [
      "s (0, 0) [('const_1_0', 1)] [('tmp26', 2)]\n",
      "m (0, <pyrtl.memory.MemBlock object at 0x000001EEDAA31C10>) [('sp', 3)] [('tmp25', 3)]\n",
      "@ (0, <pyrtl.memory.MemBlock object at 0x000001EEDAA31C10>) [('const_4_0', 3), ('const_6_0', 3), ('const_5_1', 1)] []\n",
      "s (0, 0) [('const_8_0', 1)] [('tmp30', 2)]\n",
      "c  [('tmp30', 2), ('const_7_1', 1)] [('tmp31', 3)]\n",
      "c  [('tmp26', 2), ('const_0_1', 1)] [('tmp27', 3)]\n",
      "+  [('tmp25', 3), ('tmp27', 3)] [('tmp28', 4)]\n",
      "+  [('sp', 3), ('tmp31', 3)] [('tmp32', 4)]\n",
      "s (0, 1, 2) [('tmp28', 4)] [('tmp29', 3)]\n",
      "@ (0, <pyrtl.memory.MemBlock object at 0x000001EEDAA31C10>) [('sp', 3), ('tmp29', 3), ('const_2_1', 1)] []\n",
      "s (0, 1, 2) [('tmp32', 4)] [('tmp33', 3)]\n",
      "r  [('tmp33', 3)] [('sp', 3)]\n"
     ]
    }
   ],
   "source": [
    "wb = working_block()\n",
    "for net in wb:\n",
    "    print(net.op, net.op_param or '', [(a.name, a.bitwidth) for a in net.args], [(a.name, a.bitwidth) for a in net.dests])"
   ]
  },
  {
   "cell_type": "code",
   "execution_count": 36,
   "id": "762481c8-270e-43a5-99c9-e6984949c55e",
   "metadata": {},
   "outputs": [
    {
     "data": {
      "text/plain": [
       "[LogicNet(op='s', op_param=(0, 0), args=(<pyrtl.wire.Const object at 0x000001EEDAA30E60>,), dests=(<pyrtl.wire.WireVector object at 0x000001EEDAA30680>,)),\n",
       " LogicNet(op='m', op_param=(0, <pyrtl.memory.MemBlock object at 0x000001EEDAA31C10>), args=(<pyrtl.wire.Register object at 0x000001EEDAA309B0>,), dests=(<pyrtl.wire.WireVector object at 0x000001EEDAA31460>,)),\n",
       " LogicNet(op='@', op_param=(0, <pyrtl.memory.MemBlock object at 0x000001EEDAA31C10>), args=(<pyrtl.wire.Const object at 0x000001EEDAA31910>, <pyrtl.wire.Const object at 0x000001EEDAA31FD0>, <pyrtl.wire.Const object at 0x000001EEDAA33380>), dests=()),\n",
       " LogicNet(op='s', op_param=(0, 0), args=(<pyrtl.wire.Const object at 0x000001EEDA08A870>,), dests=(<pyrtl.wire.WireVector object at 0x000001EEDA319F40>,)),\n",
       " LogicNet(op='c', op_param=None, args=(<pyrtl.wire.WireVector object at 0x000001EEDA319F40>, <pyrtl.wire.Const object at 0x000001EEDAA303E0>), dests=(<pyrtl.wire.WireVector object at 0x000001EEDA3198B0>,)),\n",
       " LogicNet(op='c', op_param=None, args=(<pyrtl.wire.WireVector object at 0x000001EEDAA30680>, <pyrtl.wire.Const object at 0x000001EEDAA30FE0>), dests=(<pyrtl.wire.WireVector object at 0x000001EEDAA312B0>,)),\n",
       " LogicNet(op='+', op_param=None, args=(<pyrtl.wire.WireVector object at 0x000001EEDAA31460>, <pyrtl.wire.WireVector object at 0x000001EEDAA312B0>), dests=(<pyrtl.wire.WireVector object at 0x000001EEDA930260>,)),\n",
       " LogicNet(op='+', op_param=None, args=(<pyrtl.wire.Register object at 0x000001EEDAA309B0>, <pyrtl.wire.WireVector object at 0x000001EEDA3198B0>), dests=(<pyrtl.wire.WireVector object at 0x000001EEDAA31F70>,)),\n",
       " LogicNet(op='s', op_param=(0, 1, 2), args=(<pyrtl.wire.WireVector object at 0x000001EEDA930260>,), dests=(<pyrtl.wire.WireVector object at 0x000001EEDAA31CD0>,)),\n",
       " LogicNet(op='@', op_param=(0, <pyrtl.memory.MemBlock object at 0x000001EEDAA31C10>), args=(<pyrtl.wire.Register object at 0x000001EEDAA309B0>, <pyrtl.wire.WireVector object at 0x000001EEDAA31CD0>, <pyrtl.wire.Const object at 0x000001EEDAA32210>), dests=()),\n",
       " LogicNet(op='s', op_param=(0, 1, 2), args=(<pyrtl.wire.WireVector object at 0x000001EEDAA31F70>,), dests=(<pyrtl.wire.WireVector object at 0x000001EEDA31AC60>,)),\n",
       " LogicNet(op='r', op_param=None, args=(<pyrtl.wire.WireVector object at 0x000001EEDA31AC60>,), dests=(<pyrtl.wire.Register object at 0x000001EEDAA309B0>,))]"
      ]
     },
     "execution_count": 36,
     "metadata": {},
     "output_type": "execute_result"
    }
   ],
   "source": [
    "list(wb)"
   ]
  },
  {
   "cell_type": "code",
   "execution_count": 37,
   "id": "059283c7-01cd-441d-911a-4abcdfe9dfbe",
   "metadata": {},
   "outputs": [
    {
     "name": "stdout",
     "output_type": "stream",
     "text": [
      "\u001b[31mSignature:\u001b[39m z3.K(dom, v)\n",
      "\u001b[31mSource:\u001b[39m   \n",
      "\u001b[38;5;28;01mdef\u001b[39;00m K(dom, v):\n",
      "    \u001b[33m\"\"\"Return a Z3 constant array expression.\u001b[39m\n",
      "\n",
      "\u001b[33m    >>> a = K(IntSort(), 10)\u001b[39m\n",
      "\u001b[33m    >>> a\u001b[39m\n",
      "\u001b[33m    K(Int, 10)\u001b[39m\n",
      "\u001b[33m    >>> a.sort()\u001b[39m\n",
      "\u001b[33m    Array(Int, Int)\u001b[39m\n",
      "\u001b[33m    >>> i = Int('i')\u001b[39m\n",
      "\u001b[33m    >>> a[i]\u001b[39m\n",
      "\u001b[33m    K(Int, 10)[i]\u001b[39m\n",
      "\u001b[33m    >>> simplify(a[i])\u001b[39m\n",
      "\u001b[33m    10\u001b[39m\n",
      "\u001b[33m    \"\"\"\u001b[39m\n",
      "    \u001b[38;5;28;01mif\u001b[39;00m z3_debug():\n",
      "        _z3_assert(is_sort(dom), \u001b[33m\"Z3 sort expected\"\u001b[39m)\n",
      "    ctx = dom.ctx\n",
      "    \u001b[38;5;28;01mif\u001b[39;00m \u001b[38;5;28;01mnot\u001b[39;00m is_expr(v):\n",
      "        v = _py2expr(v, ctx)\n",
      "    \u001b[38;5;28;01mreturn\u001b[39;00m ArrayRef(Z3_mk_const_array(ctx.ref(), dom.ast, v.as_ast()), ctx)\n",
      "\u001b[31mFile:\u001b[39m      c:\\users\\user\\appdata\\local\\programs\\python\\python312\\lib\\site-packages\\z3\\z3.py\n",
      "\u001b[31mType:\u001b[39m      function"
     ]
    }
   ],
   "source": [
    "# an example for a Z3 function for handling arrays\n",
    "z3.K??"
   ]
  },
  {
   "cell_type": "code",
   "execution_count": 42,
   "id": "9d2658e5-845d-48d8-bdaf-c1b1df94ad3f",
   "metadata": {},
   "outputs": [],
   "source": [
    "vsp = z3.BitVec('sp', 3)\n",
    "vmem = z3.Array('mem', z3.BitVecSort(3), z3.BitVecSort(3))\n",
    "\n",
    "state_vars = [vsp, vmem]\n",
    "Inv = z3.Function(\"Inv\", *(v.sort() for v in state_vars), z3.BoolSort())\n",
    "\n",
    "rules = [\n",
    "    Inv(0, z3.K(z3.BitVecSort(3), z3.BitVecVal(0, 3))),\n",
    "    z3.Implies(Inv(vsp, vmem), Inv(vsp + 1, z3.Store(vmem, vsp, vmem[vsp] + 1))),\n",
    "    z3.Implies(Inv(vsp, vmem), z3.Or(vmem[1] == vmem[2], vmem[1] == vmem[2] + 1))\n",
    "]"
   ]
  },
  {
   "cell_type": "code",
   "execution_count": 43,
   "id": "e7afd202-f794-4756-b3bb-61c310328344",
   "metadata": {},
   "outputs": [],
   "source": [
    "from verification_utils import CHCs\n",
    "chcs = CHCs(rules)\n",
    "s = chcs.create_solver()"
   ]
  },
  {
   "cell_type": "code",
   "execution_count": 40,
   "id": "91b8c4f6-46ea-45c4-befb-149a7f2b9bf0",
   "metadata": {},
   "outputs": [
    {
     "data": {
      "text/html": [
       "<b>sat</b>"
      ],
      "text/plain": [
       "sat"
      ]
     },
     "execution_count": 40,
     "metadata": {},
     "output_type": "execute_result"
    }
   ],
   "source": [
    "s.check()"
   ]
  },
  {
   "cell_type": "code",
   "execution_count": 41,
   "id": "aa923f02-3f19-4aaa-9805-ee1b795dacaf",
   "metadata": {},
   "outputs": [
    {
     "data": {
      "text/html": [
       "[Inv = [else &rarr;\n",
       "        (&not;(Extract(2, 2, &#957;<sub>0</sub>) = 1) &or; &#957;<sub>1</sub>[1] = &#957;<sub>1</sub>[2]) &and;\n",
       "        (&not;(&#957;<sub>0</sub> = 2) &or; &#957;<sub>1</sub>[1] = 1 + &#957;<sub>1</sub>[2]) &and;\n",
       "        (&not;(Extract(0, 0, &#957;<sub>0</sub>) = 1) &or; &#957;<sub>1</sub>[1] = &#957;<sub>1</sub>[2]) &and;\n",
       "        (Extract(1, 1, &#957;<sub>0</sub>) = 1 &or; &#957;<sub>1</sub>[1] = &#957;<sub>1</sub>[2])]]"
      ],
      "text/plain": [
       "[Inv = [else ->\n",
       "        And(Or(Not(Extract(2, 2, Var(0)) == 1),\n",
       "               Var(1)[1] == Var(1)[2]),\n",
       "            Or(Not(Var(0) == 2), Var(1)[1] == 1 + Var(1)[2]),\n",
       "            Or(Not(Extract(0, 0, Var(0)) == 1),\n",
       "               Var(1)[1] == Var(1)[2]),\n",
       "            Or(Extract(1, 1, Var(0)) == 1,\n",
       "               Var(1)[1] == Var(1)[2]))]]"
      ]
     },
     "execution_count": 41,
     "metadata": {},
     "output_type": "execute_result"
    }
   ],
   "source": [
    "s.model()"
   ]
  },
  {
   "cell_type": "markdown",
   "id": "2d0a75f9-ef7c-455b-b3d3-f33530bc975e",
   "metadata": {},
   "source": [
    "_You will most likely need to extend your previous implementation of_ `net_to_smt` _to handle state update._"
   ]
  },
  {
   "cell_type": "code",
   "execution_count": 46,
   "id": "7c2a1680-bd7f-4193-bbce-36a8e70b49a7",
   "metadata": {},
   "outputs": [
    {
     "ename": "Z3Exception",
     "evalue": "b'Sorts (_ BitVec 2) and (_ BitVec 1) are incompatible'",
     "output_type": "error",
     "traceback": [
      "\u001b[31m---------------------------------------------------------------------------\u001b[39m",
      "\u001b[31mZ3Exception\u001b[39m                               Traceback (most recent call last)",
      "\u001b[36mCell\u001b[39m\u001b[36m \u001b[39m\u001b[32mIn[46]\u001b[39m\u001b[32m, line 1\u001b[39m\n\u001b[32m----> \u001b[39m\u001b[32m1\u001b[39m wires, ops, assertions = \u001b[43mnet_to_smt\u001b[49m\u001b[43m(\u001b[49m\u001b[43mworking_block\u001b[49m\u001b[43m(\u001b[49m\u001b[43m)\u001b[49m\u001b[43m,\u001b[49m\u001b[43m \u001b[49m\u001b[43mmems\u001b[49m\u001b[43m=\u001b[49m\u001b[43m[\u001b[49m\u001b[43mmem\u001b[49m\u001b[43m]\u001b[49m\u001b[43m)\u001b[49m\n\u001b[32m      3\u001b[39m tr = []\n\u001b[32m      4\u001b[39m \u001b[38;5;28;01mfor\u001b[39;00m phi \u001b[38;5;129;01min\u001b[39;00m assertions:\n",
      "\u001b[36mCell\u001b[39m\u001b[36m \u001b[39m\u001b[32mIn[45]\u001b[39m\u001b[32m, line 77\u001b[39m, in \u001b[36mnet_to_smt\u001b[39m\u001b[34m(wb, mems)\u001b[39m\n\u001b[32m     75\u001b[39m \u001b[38;5;28;01mif\u001b[39;00m \u001b[38;5;28misinstance\u001b[39m(net.op_param, \u001b[38;5;28mtuple\u001b[39m) \u001b[38;5;129;01mand\u001b[39;00m \u001b[38;5;28mlen\u001b[39m(net.op_param) == \u001b[32m2\u001b[39m:\n\u001b[32m     76\u001b[39m     high_bit, low_bit = net.op_param\n\u001b[32m---> \u001b[39m\u001b[32m77\u001b[39m     assertion = \u001b[43mdest\u001b[49m\u001b[43m \u001b[49m\u001b[43m==\u001b[49m\u001b[43m \u001b[49m\u001b[43mz3\u001b[49m\u001b[43m.\u001b[49m\u001b[43mExtract\u001b[49m\u001b[43m(\u001b[49m\u001b[43mhigh_bit\u001b[49m\u001b[43m,\u001b[49m\u001b[43m \u001b[49m\u001b[43mlow_bit\u001b[49m\u001b[43m,\u001b[49m\u001b[43m \u001b[49m\u001b[43margs\u001b[49m\u001b[43m[\u001b[49m\u001b[32;43m0\u001b[39;49m\u001b[43m]\u001b[49m\u001b[43m)\u001b[49m\n\u001b[32m     78\u001b[39m     assertions.append(assertion)\n\u001b[32m     79\u001b[39m     ops.append((\u001b[33m'\u001b[39m\u001b[33mextract\u001b[39m\u001b[33m'\u001b[39m, args[\u001b[32m0\u001b[39m], high_bit, low_bit, dest))\n",
      "\u001b[36mFile \u001b[39m\u001b[32mc:\\Users\\user\\AppData\\Local\\Programs\\Python\\Python312\\Lib\\site-packages\\z3\\z3.py:1042\u001b[39m, in \u001b[36mExprRef.__eq__\u001b[39m\u001b[34m(self, other)\u001b[39m\n\u001b[32m   1040\u001b[39m     \u001b[38;5;28;01mreturn\u001b[39;00m \u001b[38;5;28;01mFalse\u001b[39;00m\n\u001b[32m   1041\u001b[39m a, b = _coerce_exprs(\u001b[38;5;28mself\u001b[39m, other)\n\u001b[32m-> \u001b[39m\u001b[32m1042\u001b[39m \u001b[38;5;28;01mreturn\u001b[39;00m BoolRef(\u001b[43mZ3_mk_eq\u001b[49m\u001b[43m(\u001b[49m\u001b[38;5;28;43mself\u001b[39;49m\u001b[43m.\u001b[49m\u001b[43mctx_ref\u001b[49m\u001b[43m(\u001b[49m\u001b[43m)\u001b[49m\u001b[43m,\u001b[49m\u001b[43m \u001b[49m\u001b[43ma\u001b[49m\u001b[43m.\u001b[49m\u001b[43mas_ast\u001b[49m\u001b[43m(\u001b[49m\u001b[43m)\u001b[49m\u001b[43m,\u001b[49m\u001b[43m \u001b[49m\u001b[43mb\u001b[49m\u001b[43m.\u001b[49m\u001b[43mas_ast\u001b[49m\u001b[43m(\u001b[49m\u001b[43m)\u001b[49m\u001b[43m)\u001b[49m, \u001b[38;5;28mself\u001b[39m.ctx)\n",
      "\u001b[36mFile \u001b[39m\u001b[32mc:\\Users\\user\\AppData\\Local\\Programs\\Python\\Python312\\Lib\\site-packages\\z3\\z3core.py:1907\u001b[39m, in \u001b[36mZ3_mk_eq\u001b[39m\u001b[34m(a0, a1, a2, _elems)\u001b[39m\n\u001b[32m   1905\u001b[39m \u001b[38;5;28;01mdef\u001b[39;00m\u001b[38;5;250m \u001b[39m\u001b[34mZ3_mk_eq\u001b[39m(a0, a1, a2, _elems=Elementaries(_lib.Z3_mk_eq)):\n\u001b[32m   1906\u001b[39m   r = _elems.f(a0, a1, a2)\n\u001b[32m-> \u001b[39m\u001b[32m1907\u001b[39m   \u001b[43m_elems\u001b[49m\u001b[43m.\u001b[49m\u001b[43mCheck\u001b[49m\u001b[43m(\u001b[49m\u001b[43ma0\u001b[49m\u001b[43m)\u001b[49m\n\u001b[32m   1908\u001b[39m   \u001b[38;5;28;01mreturn\u001b[39;00m r\n",
      "\u001b[36mFile \u001b[39m\u001b[32mc:\\Users\\user\\AppData\\Local\\Programs\\Python\\Python312\\Lib\\site-packages\\z3\\z3core.py:1575\u001b[39m, in \u001b[36mElementaries.Check\u001b[39m\u001b[34m(self, ctx)\u001b[39m\n\u001b[32m   1573\u001b[39m err = \u001b[38;5;28mself\u001b[39m.get_error_code(ctx)\n\u001b[32m   1574\u001b[39m \u001b[38;5;28;01mif\u001b[39;00m err != \u001b[38;5;28mself\u001b[39m.OK:\n\u001b[32m-> \u001b[39m\u001b[32m1575\u001b[39m     \u001b[38;5;28;01mraise\u001b[39;00m \u001b[38;5;28mself\u001b[39m.Exception(\u001b[38;5;28mself\u001b[39m.get_error_message(ctx, err))\n",
      "\u001b[31mZ3Exception\u001b[39m: b'Sorts (_ BitVec 2) and (_ BitVec 1) are incompatible'"
     ]
    }
   ],
   "source": [
    "wires, ops, assertions = net_to_smt(working_block(), mems=[mem])\n",
    "\n",
    "tr = []\n",
    "for phi in assertions:\n",
    "    print(phi)\n",
    "    tr.append(phi)"
   ]
  },
  {
   "cell_type": "code",
   "execution_count": null,
   "id": "f8aeebb2-7d5f-4e75-8e5f-d09a7b6001fb",
   "metadata": {},
   "outputs": [],
   "source": [
    "state_vars = [wires.lookup(v) for v in ['sp', 'mem']]\n",
    "Inv = z3.Function(\"Inv\", *(v.sort() for v in state_vars), z3.BoolSort())"
   ]
  },
  {
   "cell_type": "markdown",
   "id": "40bf825b-b753-4c11-9588-70b6536696fa",
   "metadata": {},
   "source": [
    "_Now implement_ `create_rules` _so that it generates appropriate Horn clauses automatically._\n",
    "\n",
    "_E.g. verify that_ `mem[1]` _and_ `mem[2]` _are at most 1 apart:_ `mem[1] == mem[2] ∨ mem[1] == mem[2] + 1`"
   ]
  },
  {
   "cell_type": "code",
   "execution_count": null,
   "id": "8f3aac2f-c80f-4636-b962-f6d5414e90eb",
   "metadata": {},
   "outputs": [],
   "source": [
    "def create_rules():\n",
    "    sp, mem = state_vars\n",
    "    \n",
    "    pre = z3.And(sp == 0, mem == z3.K(z3.BitVecSort(3), z3.BitVecVal(0, 3)))\n",
    "    post = z3.Or(mem[1] == mem[2], mem[1] == mem[2] + 1)\n",
    "    \n",
    "    start = z3.Implies(pre, Inv(*state_vars))\n",
    "    step = z3.Implies(z3.And(Inv(*state_vars), *tr), Inv(*(ops.primed_vars[v] for v in state_vars)))\n",
    "    end = z3.Implies(z3.And(Inv(*state_vars), z3.Not(post)), False)\n",
    "    \n",
    "    return [start, step, end]\n",
    "\n",
    "rules = create_rules()"
   ]
  },
  {
   "cell_type": "code",
   "execution_count": null,
   "id": "873a7ab9-e526-4cee-9688-2ffd7f78780c",
   "metadata": {},
   "outputs": [],
   "source": [
    "chcs = CHCs(rules)\n",
    "s = chcs.create_solver()"
   ]
  },
  {
   "cell_type": "code",
   "execution_count": null,
   "id": "a498e303-c84f-4e8b-8c5e-5a87c5a95d4e",
   "metadata": {},
   "outputs": [],
   "source": [
    "s.check()"
   ]
  },
  {
   "cell_type": "code",
   "execution_count": null,
   "id": "4d07348d-1711-4972-b924-7e4fca9d37f0",
   "metadata": {},
   "outputs": [],
   "source": [
    "s.model()"
   ]
  },
  {
   "cell_type": "code",
   "execution_count": null,
   "id": "7bf89512-9f26-4b60-8e61-32fbfddb0e76",
   "metadata": {},
   "outputs": [],
   "source": []
  }
 ],
 "metadata": {
  "kernelspec": {
   "display_name": "Python 3",
   "language": "python",
   "name": "python3"
  },
  "language_info": {
   "codemirror_mode": {
    "name": "ipython",
    "version": 3
   },
   "file_extension": ".py",
   "mimetype": "text/x-python",
   "name": "python",
   "nbconvert_exporter": "python",
   "pygments_lexer": "ipython3",
   "version": "3.12.10"
  }
 },
 "nbformat": 4,
 "nbformat_minor": 5
}
