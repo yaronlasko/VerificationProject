{
 "cells": [
  {
   "cell_type": "code",
   "execution_count": 3,
   "id": "b4982731",
   "metadata": {},
   "outputs": [],
   "source": [
    "from asm_interp import AsmInterp"
   ]
  },
  {
   "cell_type": "code",
   "execution_count": null,
   "id": "bead96c0",
   "metadata": {},
   "outputs": [
    {
     "name": "stdout",
     "output_type": "stream",
     "text": [
      "stack: [1, 2, 5]\n",
      "r0: 0, r1: 0\n",
      "mem: []\n"
     ]
    }
   ],
   "source": [
    "sm = AsmInterp()\n",
    "prog = [('PUSH', 1), ('PUSH', 2), ('PUSH',3),('PUSH',4),('PUSH',5), ('YANK',(1,))]\n",
    "sm.execute_program(prog)\n",
    "print(sm)"
   ]
  }
 ],
 "metadata": {
  "kernelspec": {
   "display_name": ".venv",
   "language": "python",
   "name": "python3"
  },
  "language_info": {
   "codemirror_mode": {
    "name": "ipython",
    "version": 3
   },
   "file_extension": ".py",
   "mimetype": "text/x-python",
   "name": "python",
   "nbconvert_exporter": "python",
   "pygments_lexer": "ipython3",
   "version": "3.13.2"
  }
 },
 "nbformat": 4,
 "nbformat_minor": 5
}
